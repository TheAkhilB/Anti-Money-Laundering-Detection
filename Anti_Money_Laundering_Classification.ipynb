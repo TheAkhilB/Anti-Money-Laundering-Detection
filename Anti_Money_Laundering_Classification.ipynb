{
 "cells": [
  {
   "cell_type": "markdown",
   "metadata": {
    "_cell_guid": "79c7e3d0-c299-4dcb-8224-4455121ee9b0",
    "_uuid": "d629ff2d2480ee46fbb7e2d37f6b5fab8052498a",
    "collapsed": true,
    "papermill": {
     "duration": 0.034375,
     "end_time": "2020-11-17T14:47:08.661380",
     "exception": false,
     "start_time": "2020-11-17T14:47:08.627005",
     "status": "completed"
    },
    "tags": []
   },
   "source": [
    "# Anti Money Laundering (AML)\n",
    "\n",
    "Money laundering is the process used to disguise the source of money or assets derived from criminal activity. Money laundering involves approximately $\\$ 590$ billion to $\\$ 1.5$ trillion USD per year worldwide. In 2018, $\\$46.7$ billion was laundered through Canada with $\\$7.4$ billion accounted in British Columbia. Canadian real state is a prime target for money laundering. For banks, it is important to comply the legislation from FINTRAC and OSFI. \n",
    "\n",
    "In terms of the model, it is important to reduce the false positive alarms while having very low tolerance to false negatives. False negatives, are critical because they may be problematic for the bank in terms of legislation and affect the reputation of the bank. It is important to analyze the context of the transactions/users relationships to improve effectiveness of the alarms. \n",
    "\n",
    "\n",
    "\n",
    "# Data: Elliptic Data Set\n",
    "\n",
    "The [Elliptic Dataset](https://www.groundai.com/project/anti-money-laundering-in-bitcoin-experimenting-with-graph-convolutional-networks-for-financial-forensics/1) is a graph network of Bitcoin transactions with handcrafted features. All features are constructed using only publicly available information. \n",
    "\n",
    "The Elliptic DataSet maps Bitcoin transactions to real entities in two categories:\n",
    "* Licit: exchanges, wallet providers, miners, licit services, etc.\n",
    "* Ilicit: scams, malware, terrorist, organization, ransomware, Ponzi shcemes, etc\n",
    "\n",
    "A given transaction is licit if the entity that generated it was licit.\n",
    "\n",
    "- *Nodes and Edges* 203,769 node transactions and 234,355 directed edge payments flows. 2% are ilicit (Class 1), 21% are licit (Class 2)\n",
    "- *Features* Each node has associated 166 features. 94 represent local information (timestep, number of inputs/outputs, transaction fee, output volume and aggregated figures) and 72 features represent aggregated features (obtained by aggregating transaction information such as maximum, minimum, standard deviation, correlation coefficients of neighbor transactions).\n",
    "- *Temporal Information* A time step is associated with each node, representing an stimated of the time when the transaction is confirmed. There are 49 distinct timesteps evenly spaced with an interval of 2 weeks.\n"
   ]
  },
  {
   "cell_type": "markdown",
   "metadata": {
    "papermill": {
     "duration": 0.033141,
     "end_time": "2020-11-17T14:47:08.726243",
     "exception": false,
     "start_time": "2020-11-17T14:47:08.693102",
     "status": "completed"
    },
    "tags": []
   },
   "source": [
    "## Import packages"
   ]
  },
  {
   "cell_type": "code",
   "execution_count": 1,
   "metadata": {
    "execution": {
     "iopub.execute_input": "2020-11-17T14:47:08.803893Z",
     "iopub.status.busy": "2020-11-17T14:47:08.801935Z",
     "iopub.status.idle": "2020-11-17T14:47:11.049038Z",
     "shell.execute_reply": "2020-11-17T14:47:11.048182Z"
    },
    "papermill": {
     "duration": 2.289982,
     "end_time": "2020-11-17T14:47:11.049260",
     "exception": false,
     "start_time": "2020-11-17T14:47:08.759278",
     "status": "completed"
    },
    "tags": []
   },
   "outputs": [],
   "source": [
    "import numpy as np\n",
    "import pandas as pd\n",
    "import matplotlib.pyplot as plt\n",
    "import seaborn as sns\n",
    "import networkx as nx"
   ]
  },
  {
   "cell_type": "markdown",
   "metadata": {
    "papermill": {
     "duration": 0.03586,
     "end_time": "2020-11-17T14:47:11.117375",
     "exception": false,
     "start_time": "2020-11-17T14:47:11.081515",
     "status": "completed"
    },
    "tags": []
   },
   "source": [
    "## Load Data"
   ]
  },
  {
   "cell_type": "code",
   "execution_count": 2,
   "metadata": {
    "execution": {
     "iopub.execute_input": "2020-11-17T14:47:11.197662Z",
     "iopub.status.busy": "2020-11-17T14:47:11.196215Z",
     "iopub.status.idle": "2020-11-17T14:47:25.321492Z",
     "shell.execute_reply": "2020-11-17T14:47:25.320758Z"
    },
    "papermill": {
     "duration": 14.169089,
     "end_time": "2020-11-17T14:47:25.321639",
     "exception": false,
     "start_time": "2020-11-17T14:47:11.152550",
     "status": "completed"
    },
    "tags": []
   },
   "outputs": [],
   "source": [
    "df_classes = pd.read_csv(\"/home/scypyuser/Desktop/elliptic_bitcoin_dataset/elliptic_txs_classes.csv\")\n",
    "df_edges = pd.read_csv(\"/home/scypyuser/Desktop/elliptic_bitcoin_dataset/elliptic_txs_edgelist.csv\")\n",
    "df_features = pd.read_csv(\"/home/scypyuser/Desktop/elliptic_bitcoin_dataset/elliptic_txs_features.csv\", header=None)"
   ]
  },
  {
   "cell_type": "markdown",
   "metadata": {
    "papermill": {
     "duration": 0.031878,
     "end_time": "2020-11-17T14:47:25.386466",
     "exception": false,
     "start_time": "2020-11-17T14:47:25.354588",
     "status": "completed"
    },
    "tags": []
   },
   "source": [
    "* Change column names"
   ]
  },
  {
   "cell_type": "code",
   "execution_count": 3,
   "metadata": {
    "execution": {
     "iopub.execute_input": "2020-11-17T14:47:25.462226Z",
     "iopub.status.busy": "2020-11-17T14:47:25.461389Z",
     "iopub.status.idle": "2020-11-17T14:47:25.465647Z",
     "shell.execute_reply": "2020-11-17T14:47:25.464928Z"
    },
    "papermill": {
     "duration": 0.047607,
     "end_time": "2020-11-17T14:47:25.465791",
     "exception": false,
     "start_time": "2020-11-17T14:47:25.418184",
     "status": "completed"
    },
    "tags": []
   },
   "outputs": [],
   "source": [
    "colNames1 = {'0': 'txId', 1: \"Time step\"}\n",
    "colNames2 = {str(ii+2): \"Local_feature_\" + str(ii+1) for ii in range(93)}\n",
    "colNames3 = {str(ii+95): \"Aggregate_feature_\" + str(ii+1) for ii in range(72)}\n",
    "\n",
    "colNames = dict(colNames1, **colNames2, **colNames3 )\n",
    "colNames = {int(jj): item_kk for jj,item_kk in colNames.items()}"
   ]
  },
  {
   "cell_type": "code",
   "execution_count": 119,
   "metadata": {
    "execution": {
     "iopub.execute_input": "2020-11-17T14:47:25.541174Z",
     "iopub.status.busy": "2020-11-17T14:47:25.539274Z",
     "iopub.status.idle": "2020-11-17T14:47:25.747871Z",
     "shell.execute_reply": "2020-11-17T14:47:25.747043Z"
    },
    "papermill": {
     "duration": 0.247837,
     "end_time": "2020-11-17T14:47:25.748012",
     "exception": false,
     "start_time": "2020-11-17T14:47:25.500175",
     "status": "completed"
    },
    "tags": []
   },
   "outputs": [
    {
     "data": {
      "text/html": [
       "<div>\n",
       "<style scoped>\n",
       "    .dataframe tbody tr th:only-of-type {\n",
       "        vertical-align: middle;\n",
       "    }\n",
       "\n",
       "    .dataframe tbody tr th {\n",
       "        vertical-align: top;\n",
       "    }\n",
       "\n",
       "    .dataframe thead th {\n",
       "        text-align: right;\n",
       "    }\n",
       "</style>\n",
       "<table border=\"1\" class=\"dataframe\">\n",
       "  <thead>\n",
       "    <tr style=\"text-align: right;\">\n",
       "      <th></th>\n",
       "      <th>txId</th>\n",
       "      <th>Time step</th>\n",
       "      <th>Local_feature_1</th>\n",
       "      <th>Local_feature_2</th>\n",
       "      <th>Local_feature_3</th>\n",
       "      <th>Local_feature_4</th>\n",
       "      <th>Local_feature_5</th>\n",
       "      <th>Local_feature_6</th>\n",
       "      <th>Local_feature_7</th>\n",
       "      <th>Local_feature_8</th>\n",
       "      <th>...</th>\n",
       "      <th>Aggregate_feature_63</th>\n",
       "      <th>Aggregate_feature_64</th>\n",
       "      <th>Aggregate_feature_65</th>\n",
       "      <th>Aggregate_feature_66</th>\n",
       "      <th>Aggregate_feature_67</th>\n",
       "      <th>Aggregate_feature_68</th>\n",
       "      <th>Aggregate_feature_69</th>\n",
       "      <th>Aggregate_feature_70</th>\n",
       "      <th>Aggregate_feature_71</th>\n",
       "      <th>Aggregate_feature_72</th>\n",
       "    </tr>\n",
       "  </thead>\n",
       "  <tbody>\n",
       "    <tr>\n",
       "      <th>0</th>\n",
       "      <td>230425980</td>\n",
       "      <td>1</td>\n",
       "      <td>-0.171469</td>\n",
       "      <td>-0.184668</td>\n",
       "      <td>-1.201369</td>\n",
       "      <td>-0.121970</td>\n",
       "      <td>-0.043875</td>\n",
       "      <td>-0.113002</td>\n",
       "      <td>-0.061584</td>\n",
       "      <td>-0.162097</td>\n",
       "      <td>...</td>\n",
       "      <td>-0.562153</td>\n",
       "      <td>-0.600999</td>\n",
       "      <td>1.461330</td>\n",
       "      <td>1.461369</td>\n",
       "      <td>0.018279</td>\n",
       "      <td>-0.087490</td>\n",
       "      <td>-0.131155</td>\n",
       "      <td>-0.097524</td>\n",
       "      <td>-0.120613</td>\n",
       "      <td>-0.119792</td>\n",
       "    </tr>\n",
       "    <tr>\n",
       "      <th>1</th>\n",
       "      <td>5530458</td>\n",
       "      <td>1</td>\n",
       "      <td>-0.171484</td>\n",
       "      <td>-0.184668</td>\n",
       "      <td>-1.201369</td>\n",
       "      <td>-0.121970</td>\n",
       "      <td>-0.043875</td>\n",
       "      <td>-0.113002</td>\n",
       "      <td>-0.061584</td>\n",
       "      <td>-0.162112</td>\n",
       "      <td>...</td>\n",
       "      <td>0.947382</td>\n",
       "      <td>0.673103</td>\n",
       "      <td>-0.979074</td>\n",
       "      <td>-0.978556</td>\n",
       "      <td>0.018279</td>\n",
       "      <td>-0.087490</td>\n",
       "      <td>-0.131155</td>\n",
       "      <td>-0.097524</td>\n",
       "      <td>-0.120613</td>\n",
       "      <td>-0.119792</td>\n",
       "    </tr>\n",
       "    <tr>\n",
       "      <th>2</th>\n",
       "      <td>232022460</td>\n",
       "      <td>1</td>\n",
       "      <td>-0.172107</td>\n",
       "      <td>-0.184668</td>\n",
       "      <td>-1.201369</td>\n",
       "      <td>-0.121970</td>\n",
       "      <td>-0.043875</td>\n",
       "      <td>-0.113002</td>\n",
       "      <td>-0.061584</td>\n",
       "      <td>-0.162749</td>\n",
       "      <td>...</td>\n",
       "      <td>0.670883</td>\n",
       "      <td>0.439728</td>\n",
       "      <td>-0.979074</td>\n",
       "      <td>-0.978556</td>\n",
       "      <td>-0.098889</td>\n",
       "      <td>-0.106715</td>\n",
       "      <td>-0.131155</td>\n",
       "      <td>-0.183671</td>\n",
       "      <td>-0.120613</td>\n",
       "      <td>-0.119792</td>\n",
       "    </tr>\n",
       "    <tr>\n",
       "      <th>3</th>\n",
       "      <td>232438397</td>\n",
       "      <td>1</td>\n",
       "      <td>0.163054</td>\n",
       "      <td>1.963790</td>\n",
       "      <td>-0.646376</td>\n",
       "      <td>12.409294</td>\n",
       "      <td>-0.063725</td>\n",
       "      <td>9.782742</td>\n",
       "      <td>12.414558</td>\n",
       "      <td>-0.163645</td>\n",
       "      <td>...</td>\n",
       "      <td>-0.577099</td>\n",
       "      <td>-0.613614</td>\n",
       "      <td>0.241128</td>\n",
       "      <td>0.241406</td>\n",
       "      <td>1.072793</td>\n",
       "      <td>0.085530</td>\n",
       "      <td>-0.131155</td>\n",
       "      <td>0.677799</td>\n",
       "      <td>-0.120613</td>\n",
       "      <td>-0.119792</td>\n",
       "    </tr>\n",
       "    <tr>\n",
       "      <th>4</th>\n",
       "      <td>230460314</td>\n",
       "      <td>1</td>\n",
       "      <td>1.011523</td>\n",
       "      <td>-0.081127</td>\n",
       "      <td>-1.201369</td>\n",
       "      <td>1.153668</td>\n",
       "      <td>0.333276</td>\n",
       "      <td>1.312656</td>\n",
       "      <td>-0.061584</td>\n",
       "      <td>-0.163523</td>\n",
       "      <td>...</td>\n",
       "      <td>-0.511871</td>\n",
       "      <td>-0.400422</td>\n",
       "      <td>0.517257</td>\n",
       "      <td>0.579382</td>\n",
       "      <td>0.018279</td>\n",
       "      <td>0.277775</td>\n",
       "      <td>0.326394</td>\n",
       "      <td>1.293750</td>\n",
       "      <td>0.178136</td>\n",
       "      <td>0.179117</td>\n",
       "    </tr>\n",
       "  </tbody>\n",
       "</table>\n",
       "<p>5 rows × 167 columns</p>\n",
       "</div>"
      ],
      "text/plain": [
       "        txId  Time step  Local_feature_1  Local_feature_2  Local_feature_3  \\\n",
       "0  230425980          1        -0.171469        -0.184668        -1.201369   \n",
       "1    5530458          1        -0.171484        -0.184668        -1.201369   \n",
       "2  232022460          1        -0.172107        -0.184668        -1.201369   \n",
       "3  232438397          1         0.163054         1.963790        -0.646376   \n",
       "4  230460314          1         1.011523        -0.081127        -1.201369   \n",
       "\n",
       "   Local_feature_4  Local_feature_5  Local_feature_6  Local_feature_7  \\\n",
       "0        -0.121970        -0.043875        -0.113002        -0.061584   \n",
       "1        -0.121970        -0.043875        -0.113002        -0.061584   \n",
       "2        -0.121970        -0.043875        -0.113002        -0.061584   \n",
       "3        12.409294        -0.063725         9.782742        12.414558   \n",
       "4         1.153668         0.333276         1.312656        -0.061584   \n",
       "\n",
       "   Local_feature_8  ...  Aggregate_feature_63  Aggregate_feature_64  \\\n",
       "0        -0.162097  ...             -0.562153             -0.600999   \n",
       "1        -0.162112  ...              0.947382              0.673103   \n",
       "2        -0.162749  ...              0.670883              0.439728   \n",
       "3        -0.163645  ...             -0.577099             -0.613614   \n",
       "4        -0.163523  ...             -0.511871             -0.400422   \n",
       "\n",
       "   Aggregate_feature_65  Aggregate_feature_66  Aggregate_feature_67  \\\n",
       "0              1.461330              1.461369              0.018279   \n",
       "1             -0.979074             -0.978556              0.018279   \n",
       "2             -0.979074             -0.978556             -0.098889   \n",
       "3              0.241128              0.241406              1.072793   \n",
       "4              0.517257              0.579382              0.018279   \n",
       "\n",
       "   Aggregate_feature_68  Aggregate_feature_69  Aggregate_feature_70  \\\n",
       "0             -0.087490             -0.131155             -0.097524   \n",
       "1             -0.087490             -0.131155             -0.097524   \n",
       "2             -0.106715             -0.131155             -0.183671   \n",
       "3              0.085530             -0.131155              0.677799   \n",
       "4              0.277775              0.326394              1.293750   \n",
       "\n",
       "   Aggregate_feature_71  Aggregate_feature_72  \n",
       "0             -0.120613             -0.119792  \n",
       "1             -0.120613             -0.119792  \n",
       "2             -0.120613             -0.119792  \n",
       "3             -0.120613             -0.119792  \n",
       "4              0.178136              0.179117  \n",
       "\n",
       "[5 rows x 167 columns]"
      ]
     },
     "execution_count": 119,
     "metadata": {},
     "output_type": "execute_result"
    }
   ],
   "source": [
    "df_features = df_features.rename(columns=colNames)\n",
    "df_features.head()"
   ]
  },
  {
   "cell_type": "markdown",
   "metadata": {
    "papermill": {
     "duration": 0.034061,
     "end_time": "2020-11-17T14:47:25.818331",
     "exception": false,
     "start_time": "2020-11-17T14:47:25.784270",
     "status": "completed"
    },
    "tags": []
   },
   "source": [
    "* Change class 'unknown' to 3"
   ]
  },
  {
   "cell_type": "code",
   "execution_count": 5,
   "metadata": {
    "execution": {
     "iopub.execute_input": "2020-11-17T14:47:25.935575Z",
     "iopub.status.busy": "2020-11-17T14:47:25.933410Z",
     "iopub.status.idle": "2020-11-17T14:47:25.953029Z",
     "shell.execute_reply": "2020-11-17T14:47:25.952242Z"
    },
    "papermill": {
     "duration": 0.098563,
     "end_time": "2020-11-17T14:47:25.953221",
     "exception": false,
     "start_time": "2020-11-17T14:47:25.854658",
     "status": "completed"
    },
    "tags": []
   },
   "outputs": [
    {
     "name": "stdout",
     "output_type": "stream",
     "text": [
      "Shape of classes (203769, 2)\n",
      "Shape of edges (234355, 2)\n",
      "Shape of features (203769, 167)\n"
     ]
    }
   ],
   "source": [
    "df_classes.loc[df_classes['class'] == 'unknown', 'class'] = 3\n",
    "print('Shape of classes', df_classes.shape)\n",
    "print('Shape of edges', df_edges.shape)\n",
    "print('Shape of features', df_features.shape)"
   ]
  },
  {
   "cell_type": "markdown",
   "metadata": {
    "papermill": {
     "duration": 0.037564,
     "end_time": "2020-11-17T14:47:26.026333",
     "exception": false,
     "start_time": "2020-11-17T14:47:25.988769",
     "status": "completed"
    },
    "tags": []
   },
   "source": [
    "<a id='eda'></a>\n",
    "## Exploratory Data Analysis (EDA)"
   ]
  },
  {
   "cell_type": "markdown",
   "metadata": {
    "papermill": {
     "duration": 0.034369,
     "end_time": "2020-11-17T14:47:26.095644",
     "exception": false,
     "start_time": "2020-11-17T14:47:26.061275",
     "status": "completed"
    },
    "tags": []
   },
   "source": [
    "* Quantity of transactions per class"
   ]
  },
  {
   "cell_type": "code",
   "execution_count": 6,
   "metadata": {
    "execution": {
     "iopub.execute_input": "2020-11-17T14:47:26.192522Z",
     "iopub.status.busy": "2020-11-17T14:47:26.191724Z",
     "iopub.status.idle": "2020-11-17T14:47:26.394023Z",
     "shell.execute_reply": "2020-11-17T14:47:26.393242Z"
    },
    "papermill": {
     "duration": 0.263183,
     "end_time": "2020-11-17T14:47:26.394195",
     "exception": false,
     "start_time": "2020-11-17T14:47:26.131012",
     "status": "completed"
    },
    "tags": []
   },
   "outputs": [
    {
     "data": {
      "text/plain": [
       "<BarContainer object of 3 artists>"
      ]
     },
     "execution_count": 6,
     "metadata": {},
     "output_type": "execute_result"
    },
    {
     "data": {
      "image/png": "[encoded data removed]",
      "text/plain": [
       "<Figure size 432x288 with 1 Axes>"
      ]
     },
     "metadata": {
      "needs_background": "light"
     },
     "output_type": "display_data"
    }
   ],
   "source": [
    "group_class = df_classes.groupby('class').count()\n",
    "plt.barh(['Unknown', 'Ilicit', 'Licit'], group_class['txId'].values, color=['orange', 'r', 'g'] )"
   ]
  },
  {
   "cell_type": "markdown",
   "metadata": {
    "papermill": {
     "duration": 0.035121,
     "end_time": "2020-11-17T14:47:26.464383",
     "exception": false,
     "start_time": "2020-11-17T14:47:26.429262",
     "status": "completed"
    },
    "tags": []
   },
   "source": [
    "* Number of transactions per Time step"
   ]
  },
  {
   "cell_type": "code",
   "execution_count": 7,
   "metadata": {
    "execution": {
     "iopub.execute_input": "2020-11-17T14:47:26.627215Z",
     "iopub.status.busy": "2020-11-17T14:47:26.626399Z",
     "iopub.status.idle": "2020-11-17T14:47:27.127376Z",
     "shell.execute_reply": "2020-11-17T14:47:27.128121Z"
    },
    "papermill": {
     "duration": 0.629419,
     "end_time": "2020-11-17T14:47:27.128306",
     "exception": false,
     "start_time": "2020-11-17T14:47:26.498887",
     "status": "completed"
    },
    "tags": []
   },
   "outputs": [
    {
     "data": {
      "text/plain": [
       "Text(0.5, 1.0, 'Number of transactions by Time step')"
      ]
     },
     "execution_count": 7,
     "metadata": {},
     "output_type": "execute_result"
    },
    {
     "data": {
      "image/png": "[encoded data removed]",
      "text/plain": [
       "<Figure size 432x288 with 1 Axes>"
      ]
     },
     "metadata": {
      "needs_background": "light"
     },
     "output_type": "display_data"
    }
   ],
   "source": [
    "group_feature = df_features.groupby('Time step').count()\n",
    "group_feature['txId'].plot()\n",
    "plt.title('Number of transactions by Time step')"
   ]
  },
  {
   "cell_type": "markdown",
   "metadata": {
    "papermill": {
     "duration": 0.039176,
     "end_time": "2020-11-17T14:47:27.206324",
     "exception": false,
     "start_time": "2020-11-17T14:47:27.167148",
     "status": "completed"
    },
    "tags": []
   },
   "source": [
    "* Number of transactions per class and timestep"
   ]
  },
  {
   "cell_type": "code",
   "execution_count": 8,
   "metadata": {
    "execution": {
     "iopub.execute_input": "2020-11-17T14:47:27.295312Z",
     "iopub.status.busy": "2020-11-17T14:47:27.293709Z",
     "iopub.status.idle": "2020-11-17T14:47:27.776477Z",
     "shell.execute_reply": "2020-11-17T14:47:27.777024Z"
    },
    "papermill": {
     "duration": 0.532174,
     "end_time": "2020-11-17T14:47:27.777212",
     "exception": false,
     "start_time": "2020-11-17T14:47:27.245038",
     "status": "completed"
    },
    "tags": []
   },
   "outputs": [
    {
     "data": {
      "text/html": [
       "<div>\n",
       "<style scoped>\n",
       "    .dataframe tbody tr th:only-of-type {\n",
       "        vertical-align: middle;\n",
       "    }\n",
       "\n",
       "    .dataframe tbody tr th {\n",
       "        vertical-align: top;\n",
       "    }\n",
       "\n",
       "    .dataframe thead th {\n",
       "        text-align: right;\n",
       "    }\n",
       "</style>\n",
       "<table border=\"1\" class=\"dataframe\">\n",
       "  <thead>\n",
       "    <tr style=\"text-align: right;\">\n",
       "      <th></th>\n",
       "      <th>txId</th>\n",
       "      <th>class</th>\n",
       "      <th>Time step</th>\n",
       "      <th>Local_feature_1</th>\n",
       "      <th>Local_feature_2</th>\n",
       "      <th>Local_feature_3</th>\n",
       "      <th>Local_feature_4</th>\n",
       "      <th>Local_feature_5</th>\n",
       "      <th>Local_feature_6</th>\n",
       "      <th>Local_feature_7</th>\n",
       "      <th>...</th>\n",
       "      <th>Aggregate_feature_63</th>\n",
       "      <th>Aggregate_feature_64</th>\n",
       "      <th>Aggregate_feature_65</th>\n",
       "      <th>Aggregate_feature_66</th>\n",
       "      <th>Aggregate_feature_67</th>\n",
       "      <th>Aggregate_feature_68</th>\n",
       "      <th>Aggregate_feature_69</th>\n",
       "      <th>Aggregate_feature_70</th>\n",
       "      <th>Aggregate_feature_71</th>\n",
       "      <th>Aggregate_feature_72</th>\n",
       "    </tr>\n",
       "  </thead>\n",
       "  <tbody>\n",
       "    <tr>\n",
       "      <th>0</th>\n",
       "      <td>230425980</td>\n",
       "      <td>3</td>\n",
       "      <td>1</td>\n",
       "      <td>-0.171469</td>\n",
       "      <td>-0.184668</td>\n",
       "      <td>-1.201369</td>\n",
       "      <td>-0.121970</td>\n",
       "      <td>-0.043875</td>\n",
       "      <td>-0.113002</td>\n",
       "      <td>-0.061584</td>\n",
       "      <td>...</td>\n",
       "      <td>-0.562153</td>\n",
       "      <td>-0.600999</td>\n",
       "      <td>1.461330</td>\n",
       "      <td>1.461369</td>\n",
       "      <td>0.018279</td>\n",
       "      <td>-0.087490</td>\n",
       "      <td>-0.131155</td>\n",
       "      <td>-0.097524</td>\n",
       "      <td>-0.120613</td>\n",
       "      <td>-0.119792</td>\n",
       "    </tr>\n",
       "    <tr>\n",
       "      <th>1</th>\n",
       "      <td>5530458</td>\n",
       "      <td>3</td>\n",
       "      <td>1</td>\n",
       "      <td>-0.171484</td>\n",
       "      <td>-0.184668</td>\n",
       "      <td>-1.201369</td>\n",
       "      <td>-0.121970</td>\n",
       "      <td>-0.043875</td>\n",
       "      <td>-0.113002</td>\n",
       "      <td>-0.061584</td>\n",
       "      <td>...</td>\n",
       "      <td>0.947382</td>\n",
       "      <td>0.673103</td>\n",
       "      <td>-0.979074</td>\n",
       "      <td>-0.978556</td>\n",
       "      <td>0.018279</td>\n",
       "      <td>-0.087490</td>\n",
       "      <td>-0.131155</td>\n",
       "      <td>-0.097524</td>\n",
       "      <td>-0.120613</td>\n",
       "      <td>-0.119792</td>\n",
       "    </tr>\n",
       "    <tr>\n",
       "      <th>2</th>\n",
       "      <td>232022460</td>\n",
       "      <td>3</td>\n",
       "      <td>1</td>\n",
       "      <td>-0.172107</td>\n",
       "      <td>-0.184668</td>\n",
       "      <td>-1.201369</td>\n",
       "      <td>-0.121970</td>\n",
       "      <td>-0.043875</td>\n",
       "      <td>-0.113002</td>\n",
       "      <td>-0.061584</td>\n",
       "      <td>...</td>\n",
       "      <td>0.670883</td>\n",
       "      <td>0.439728</td>\n",
       "      <td>-0.979074</td>\n",
       "      <td>-0.978556</td>\n",
       "      <td>-0.098889</td>\n",
       "      <td>-0.106715</td>\n",
       "      <td>-0.131155</td>\n",
       "      <td>-0.183671</td>\n",
       "      <td>-0.120613</td>\n",
       "      <td>-0.119792</td>\n",
       "    </tr>\n",
       "    <tr>\n",
       "      <th>3</th>\n",
       "      <td>232438397</td>\n",
       "      <td>2</td>\n",
       "      <td>1</td>\n",
       "      <td>0.163054</td>\n",
       "      <td>1.963790</td>\n",
       "      <td>-0.646376</td>\n",
       "      <td>12.409294</td>\n",
       "      <td>-0.063725</td>\n",
       "      <td>9.782742</td>\n",
       "      <td>12.414558</td>\n",
       "      <td>...</td>\n",
       "      <td>-0.577099</td>\n",
       "      <td>-0.613614</td>\n",
       "      <td>0.241128</td>\n",
       "      <td>0.241406</td>\n",
       "      <td>1.072793</td>\n",
       "      <td>0.085530</td>\n",
       "      <td>-0.131155</td>\n",
       "      <td>0.677799</td>\n",
       "      <td>-0.120613</td>\n",
       "      <td>-0.119792</td>\n",
       "    </tr>\n",
       "    <tr>\n",
       "      <th>4</th>\n",
       "      <td>230460314</td>\n",
       "      <td>3</td>\n",
       "      <td>1</td>\n",
       "      <td>1.011523</td>\n",
       "      <td>-0.081127</td>\n",
       "      <td>-1.201369</td>\n",
       "      <td>1.153668</td>\n",
       "      <td>0.333276</td>\n",
       "      <td>1.312656</td>\n",
       "      <td>-0.061584</td>\n",
       "      <td>...</td>\n",
       "      <td>-0.511871</td>\n",
       "      <td>-0.400422</td>\n",
       "      <td>0.517257</td>\n",
       "      <td>0.579382</td>\n",
       "      <td>0.018279</td>\n",
       "      <td>0.277775</td>\n",
       "      <td>0.326394</td>\n",
       "      <td>1.293750</td>\n",
       "      <td>0.178136</td>\n",
       "      <td>0.179117</td>\n",
       "    </tr>\n",
       "  </tbody>\n",
       "</table>\n",
       "<p>5 rows × 168 columns</p>\n",
       "</div>"
      ],
      "text/plain": [
       "        txId class  Time step  Local_feature_1  Local_feature_2  \\\n",
       "0  230425980     3          1        -0.171469        -0.184668   \n",
       "1    5530458     3          1        -0.171484        -0.184668   \n",
       "2  232022460     3          1        -0.172107        -0.184668   \n",
       "3  232438397     2          1         0.163054         1.963790   \n",
       "4  230460314     3          1         1.011523        -0.081127   \n",
       "\n",
       "   Local_feature_3  Local_feature_4  Local_feature_5  Local_feature_6  \\\n",
       "0        -1.201369        -0.121970        -0.043875        -0.113002   \n",
       "1        -1.201369        -0.121970        -0.043875        -0.113002   \n",
       "2        -1.201369        -0.121970        -0.043875        -0.113002   \n",
       "3        -0.646376        12.409294        -0.063725         9.782742   \n",
       "4        -1.201369         1.153668         0.333276         1.312656   \n",
       "\n",
       "   Local_feature_7  ...  Aggregate_feature_63  Aggregate_feature_64  \\\n",
       "0        -0.061584  ...             -0.562153             -0.600999   \n",
       "1        -0.061584  ...              0.947382              0.673103   \n",
       "2        -0.061584  ...              0.670883              0.439728   \n",
       "3        12.414558  ...             -0.577099             -0.613614   \n",
       "4        -0.061584  ...             -0.511871             -0.400422   \n",
       "\n",
       "   Aggregate_feature_65  Aggregate_feature_66  Aggregate_feature_67  \\\n",
       "0              1.461330              1.461369              0.018279   \n",
       "1             -0.979074             -0.978556              0.018279   \n",
       "2             -0.979074             -0.978556             -0.098889   \n",
       "3              0.241128              0.241406              1.072793   \n",
       "4              0.517257              0.579382              0.018279   \n",
       "\n",
       "   Aggregate_feature_68  Aggregate_feature_69  Aggregate_feature_70  \\\n",
       "0             -0.087490             -0.131155             -0.097524   \n",
       "1             -0.087490             -0.131155             -0.097524   \n",
       "2             -0.106715             -0.131155             -0.183671   \n",
       "3              0.085530             -0.131155              0.677799   \n",
       "4              0.277775              0.326394              1.293750   \n",
       "\n",
       "   Aggregate_feature_71  Aggregate_feature_72  \n",
       "0             -0.120613             -0.119792  \n",
       "1             -0.120613             -0.119792  \n",
       "2             -0.120613             -0.119792  \n",
       "3             -0.120613             -0.119792  \n",
       "4              0.178136              0.179117  \n",
       "\n",
       "[5 rows x 168 columns]"
      ]
     },
     "execution_count": 8,
     "metadata": {},
     "output_type": "execute_result"
    }
   ],
   "source": [
    "# Merge Class and features\n",
    "df_class_feature = pd.merge(df_classes, df_features )\n",
    "df_class_feature.head()"
   ]
  },
  {
   "cell_type": "code",
   "execution_count": 9,
   "metadata": {
    "execution": {
     "iopub.execute_input": "2020-11-17T14:47:27.861519Z",
     "iopub.status.busy": "2020-11-17T14:47:27.860226Z",
     "iopub.status.idle": "2020-11-17T14:47:28.191718Z",
     "shell.execute_reply": "2020-11-17T14:47:28.192341Z"
    },
    "papermill": {
     "duration": 0.378154,
     "end_time": "2020-11-17T14:47:28.192543",
     "exception": false,
     "start_time": "2020-11-17T14:47:27.814389",
     "status": "completed"
    },
    "tags": []
   },
   "outputs": [
    {
     "data": {
      "text/html": [
       "<div>\n",
       "<style scoped>\n",
       "    .dataframe tbody tr th:only-of-type {\n",
       "        vertical-align: middle;\n",
       "    }\n",
       "\n",
       "    .dataframe tbody tr th {\n",
       "        vertical-align: top;\n",
       "    }\n",
       "\n",
       "    .dataframe thead th {\n",
       "        text-align: right;\n",
       "    }\n",
       "</style>\n",
       "<table border=\"1\" class=\"dataframe\">\n",
       "  <thead>\n",
       "    <tr style=\"text-align: right;\">\n",
       "      <th></th>\n",
       "      <th>Time step</th>\n",
       "      <th>class</th>\n",
       "      <th>count</th>\n",
       "    </tr>\n",
       "  </thead>\n",
       "  <tbody>\n",
       "    <tr>\n",
       "      <th>0</th>\n",
       "      <td>1</td>\n",
       "      <td>3</td>\n",
       "      <td>5733</td>\n",
       "    </tr>\n",
       "    <tr>\n",
       "      <th>1</th>\n",
       "      <td>1</td>\n",
       "      <td>1</td>\n",
       "      <td>17</td>\n",
       "    </tr>\n",
       "    <tr>\n",
       "      <th>2</th>\n",
       "      <td>1</td>\n",
       "      <td>2</td>\n",
       "      <td>2130</td>\n",
       "    </tr>\n",
       "    <tr>\n",
       "      <th>3</th>\n",
       "      <td>2</td>\n",
       "      <td>3</td>\n",
       "      <td>3427</td>\n",
       "    </tr>\n",
       "    <tr>\n",
       "      <th>4</th>\n",
       "      <td>2</td>\n",
       "      <td>1</td>\n",
       "      <td>18</td>\n",
       "    </tr>\n",
       "  </tbody>\n",
       "</table>\n",
       "</div>"
      ],
      "text/plain": [
       "   Time step class  count\n",
       "0          1     3   5733\n",
       "1          1     1     17\n",
       "2          1     2   2130\n",
       "3          2     3   3427\n",
       "4          2     1     18"
      ]
     },
     "execution_count": 9,
     "metadata": {},
     "output_type": "execute_result"
    }
   ],
   "source": [
    "group_class_feature = df_class_feature.groupby(['Time step', 'class']).count()\n",
    "#plt.barh(['Unknown', 'Ilicit', 'Licit'], group_class['txId'].values, color=['orange', 'r', 'g'] )\n",
    "group_class_feature = group_class_feature['txId'].reset_index().rename(columns={'txId': 'count'})#unstack()\n",
    "group_class_feature.head()"
   ]
  },
  {
   "cell_type": "code",
   "execution_count": 10,
   "metadata": {
    "execution": {
     "iopub.execute_input": "2020-11-17T14:47:28.385981Z",
     "iopub.status.busy": "2020-11-17T14:47:28.282897Z",
     "iopub.status.idle": "2020-11-17T14:47:28.661589Z",
     "shell.execute_reply": "2020-11-17T14:47:28.662239Z"
    },
    "papermill": {
     "duration": 0.429265,
     "end_time": "2020-11-17T14:47:28.662425",
     "exception": false,
     "start_time": "2020-11-17T14:47:28.233160",
     "status": "completed"
    },
    "tags": []
   },
   "outputs": [
    {
     "data": {
      "text/plain": [
       "<matplotlib.axes._subplots.AxesSubplot at 0x7fd07baed400>"
      ]
     },
     "execution_count": 10,
     "metadata": {},
     "output_type": "execute_result"
    },
    {
     "data": {
      "image/png": "[encoded data removed]",
      "text/plain": [
       "<Figure size 432x288 with 1 Axes>"
      ]
     },
     "metadata": {
      "needs_background": "light"
     },
     "output_type": "display_data"
    }
   ],
   "source": [
    "sns.lineplot(x='Time step', y='count', hue='class', data = group_class_feature, palette=['g', 'orange', 'r'] )"
   ]
  },
  {
   "cell_type": "code",
   "execution_count": 11,
   "metadata": {
    "execution": {
     "iopub.execute_input": "2020-11-17T14:47:28.760001Z",
     "iopub.status.busy": "2020-11-17T14:47:28.754337Z",
     "iopub.status.idle": "2020-11-17T14:47:29.259924Z",
     "shell.execute_reply": "2020-11-17T14:47:29.259142Z"
    },
    "papermill": {
     "duration": 0.555469,
     "end_time": "2020-11-17T14:47:29.260074",
     "exception": false,
     "start_time": "2020-11-17T14:47:28.704605",
     "status": "completed"
    },
    "tags": []
   },
   "outputs": [
    {
     "data": {
      "text/plain": [
       "Text(0.5, 0, 'Time step')"
      ]
     },
     "execution_count": 11,
     "metadata": {},
     "output_type": "execute_result"
    },
    {
     "data": {
      "image/png": "[encoded data removed]",
      "text/plain": [
       "<Figure size 1440x720 with 1 Axes>"
      ]
     },
     "metadata": {
      "needs_background": "light"
     },
     "output_type": "display_data"
    }
   ],
   "source": [
    "class1 = group_class_feature[group_class_feature['class'] == '1']\n",
    "class2 = group_class_feature[group_class_feature['class'] == '2']\n",
    "class3 = group_class_feature[group_class_feature['class'] == 3 ]\n",
    "\n",
    "plt.figure(figsize=(20,10))\n",
    "\n",
    "p1 = plt.bar(class3['Time step'], class3['count'], color = 'orange')\n",
    "\n",
    "p2 = plt.bar(class2['Time step'], class2['count'], color='g',bottom=class3['count'])\n",
    "\n",
    "p3 = plt.bar(class1['Time step'], class1['count'], color='r',bottom=np.array(class3['count'])+np.array(class2['count']))\n",
    "\n",
    "plt.xlabel('Time step')\n"
   ]
  },
  {
   "cell_type": "code",
   "execution_count": 12,
   "metadata": {},
   "outputs": [
    {
     "data": {
      "image/png": "[encoded data removed]",
      "text/plain": [
       "<Figure size 432x288 with 1 Axes>"
      ]
     },
     "metadata": {
      "needs_background": "light"
     },
     "output_type": "display_data"
    }
   ],
   "source": [
    "p1 = plt.bar(class3['Time step'], class3['count'], color = 'orange')"
   ]
  },
  {
   "cell_type": "code",
   "execution_count": 13,
   "metadata": {},
   "outputs": [
    {
     "data": {
      "image/png": "[encoded data removed]",
      "text/plain": [
       "<Figure size 432x288 with 1 Axes>"
      ]
     },
     "metadata": {
      "needs_background": "light"
     },
     "output_type": "display_data"
    }
   ],
   "source": [
    "p2 = plt.bar(class2['Time step'], class2['count'], color='g',bottom=class3['count'])"
   ]
  },
  {
   "cell_type": "code",
   "execution_count": 14,
   "metadata": {},
   "outputs": [
    {
     "data": {
      "image/png": "[encoded data removed]",
      "text/plain": [
       "<Figure size 432x288 with 1 Axes>"
      ]
     },
     "metadata": {
      "needs_background": "light"
     },
     "output_type": "display_data"
    }
   ],
   "source": [
    "p3 = plt.bar(class1['Time step'], class1['count'], color='r',bottom=np.array(class3['count'])+np.array(class2['count']))"
   ]
  },
  {
   "cell_type": "markdown",
   "metadata": {
    "papermill": {
     "duration": 0.042188,
     "end_time": "2020-11-17T14:47:29.343521",
     "exception": false,
     "start_time": "2020-11-17T14:47:29.301333",
     "status": "completed"
    },
    "tags": []
   },
   "source": [
    "<a id='graphs'></a>\n",
    "# Graphs\n",
    "* Ilicit transactions at time step 20"
   ]
  },
  {
   "cell_type": "code",
   "execution_count": 15,
   "metadata": {
    "execution": {
     "iopub.execute_input": "2020-11-17T14:47:29.475756Z",
     "iopub.status.busy": "2020-11-17T14:47:29.474847Z",
     "iopub.status.idle": "2020-11-17T14:47:30.689160Z",
     "shell.execute_reply": "2020-11-17T14:47:30.688343Z"
    },
    "papermill": {
     "duration": 1.301737,
     "end_time": "2020-11-17T14:47:30.689293",
     "exception": false,
     "start_time": "2020-11-17T14:47:29.387556",
     "status": "completed"
    },
    "tags": []
   },
   "outputs": [
    {
     "name": "stderr",
     "output_type": "stream",
     "text": [
      "/home/scypyuser/anaconda3/lib/python3.7/site-packages/networkx/drawing/nx_pylab.py:579: MatplotlibDeprecationWarning: \n",
      "The iterable function was deprecated in Matplotlib 3.1 and will be removed in 3.3. Use np.iterable instead.\n",
      "  if not cb.iterable(width):\n",
      "/home/scypyuser/anaconda3/lib/python3.7/site-packages/networkx/drawing/nx_pylab.py:676: MatplotlibDeprecationWarning: \n",
      "The iterable function was deprecated in Matplotlib 3.1 and will be removed in 3.3. Use np.iterable instead.\n",
      "  if cb.iterable(node_size):  # many node sizes\n"
     ]
    },
    {
     "data": {
      "image/png": "[encoded data removed]",
      "text/plain": [
       "<Figure size 432x288 with 1 Axes>"
      ]
     },
     "metadata": {},
     "output_type": "display_data"
    }
   ],
   "source": [
    "ilicit_ids = df_class_feature.loc[(df_class_feature['Time step'] == 20) & (df_class_feature['class'] == '1'), 'txId']\n",
    "ilicit_edges = df_edges.loc[df_edges['txId1'].isin(ilicit_ids)]\n",
    "\n",
    "graph = nx.from_pandas_edgelist(ilicit_edges, source = 'txId1', target = 'txId2', \n",
    "                                 create_using = nx.DiGraph())\n",
    "pos = nx.spring_layout(graph)\n",
    "nx.draw(graph, with_labels=False, pos=pos)"
   ]
  },
  {
   "cell_type": "code",
   "execution_count": 16,
   "metadata": {
    "execution": {
     "iopub.execute_input": "2020-11-17T14:47:30.825838Z",
     "iopub.status.busy": "2020-11-17T14:47:30.824984Z",
     "iopub.status.idle": "2020-11-17T14:47:41.393355Z",
     "shell.execute_reply": "2020-11-17T14:47:41.392462Z"
    },
    "papermill": {
     "duration": 10.659353,
     "end_time": "2020-11-17T14:47:41.393533",
     "exception": false,
     "start_time": "2020-11-17T14:47:30.734180",
     "status": "completed"
    },
    "tags": []
   },
   "outputs": [
    {
     "data": {
      "image/png": "[encoded data removed]",
      "text/plain": [
       "<Figure size 432x288 with 1 Axes>"
      ]
     },
     "metadata": {},
     "output_type": "display_data"
    }
   ],
   "source": [
    "licit_ids = df_class_feature.loc[(df_class_feature['Time step'] == 20) & (df_class_feature['class'] == '2'), 'txId']\n",
    "licit_edges = df_edges.loc[df_edges['txId1'].isin(licit_ids)]\n",
    "\n",
    "graph = nx.from_pandas_edgelist(licit_edges, source = 'txId1', target = 'txId2', \n",
    "                                 create_using = nx.DiGraph())\n",
    "pos = nx.spring_layout(graph)\n",
    "nx.draw(graph, with_labels=False, pos=pos)"
   ]
  },
  {
   "cell_type": "markdown",
   "metadata": {
    "papermill": {
     "duration": 0.048054,
     "end_time": "2020-11-17T14:47:41.488559",
     "exception": false,
     "start_time": "2020-11-17T14:47:41.440505",
     "status": "completed"
    },
    "tags": []
   },
   "source": [
    "<a id='prediction'></a>\n",
    "# Prediction of ilicit transactions\n",
    "## Import packages"
   ]
  },
  {
   "cell_type": "code",
   "execution_count": 17,
   "metadata": {
    "execution": {
     "iopub.execute_input": "2020-11-17T14:47:41.587573Z",
     "iopub.status.busy": "2020-11-17T14:47:41.586752Z",
     "iopub.status.idle": "2020-11-17T14:47:41.926985Z",
     "shell.execute_reply": "2020-11-17T14:47:41.926012Z"
    },
    "papermill": {
     "duration": 0.392372,
     "end_time": "2020-11-17T14:47:41.927166",
     "exception": false,
     "start_time": "2020-11-17T14:47:41.534794",
     "status": "completed"
    },
    "tags": []
   },
   "outputs": [],
   "source": [
    "from sklearn.model_selection import train_test_split\n",
    "from sklearn.ensemble import RandomForestClassifier\n",
    "from sklearn.metrics import precision_recall_fscore_support,confusion_matrix,accuracy_score,classification_report,roc_auc_score,roc_curve,ConfusionMatrixDisplay"
   ]
  },
  {
   "cell_type": "markdown",
   "metadata": {
    "papermill": {
     "duration": 0.050406,
     "end_time": "2020-11-17T14:47:42.025686",
     "exception": false,
     "start_time": "2020-11-17T14:47:41.975280",
     "status": "completed"
    },
    "tags": []
   },
   "source": [
    "## Initial Data\n",
    "* First we pick the class 1 or 2 transactions only"
   ]
  },
  {
   "cell_type": "code",
   "execution_count": 18,
   "metadata": {
    "execution": {
     "iopub.execute_input": "2020-11-17T14:47:42.160745Z",
     "iopub.status.busy": "2020-11-17T14:47:42.159926Z",
     "iopub.status.idle": "2020-11-17T14:47:42.309110Z",
     "shell.execute_reply": "2020-11-17T14:47:42.308292Z"
    },
    "papermill": {
     "duration": 0.236478,
     "end_time": "2020-11-17T14:47:42.309263",
     "exception": false,
     "start_time": "2020-11-17T14:47:42.072785",
     "status": "completed"
    },
    "tags": []
   },
   "outputs": [
    {
     "data": {
      "text/html": [
       "<div>\n",
       "<style scoped>\n",
       "    .dataframe tbody tr th:only-of-type {\n",
       "        vertical-align: middle;\n",
       "    }\n",
       "\n",
       "    .dataframe tbody tr th {\n",
       "        vertical-align: top;\n",
       "    }\n",
       "\n",
       "    .dataframe thead th {\n",
       "        text-align: right;\n",
       "    }\n",
       "</style>\n",
       "<table border=\"1\" class=\"dataframe\">\n",
       "  <thead>\n",
       "    <tr style=\"text-align: right;\">\n",
       "      <th></th>\n",
       "      <th>txId</th>\n",
       "      <th>class</th>\n",
       "      <th>Time step</th>\n",
       "      <th>Local_feature_1</th>\n",
       "      <th>Local_feature_2</th>\n",
       "      <th>Local_feature_3</th>\n",
       "      <th>Local_feature_4</th>\n",
       "      <th>Local_feature_5</th>\n",
       "      <th>Local_feature_6</th>\n",
       "      <th>Local_feature_7</th>\n",
       "      <th>...</th>\n",
       "      <th>Aggregate_feature_63</th>\n",
       "      <th>Aggregate_feature_64</th>\n",
       "      <th>Aggregate_feature_65</th>\n",
       "      <th>Aggregate_feature_66</th>\n",
       "      <th>Aggregate_feature_67</th>\n",
       "      <th>Aggregate_feature_68</th>\n",
       "      <th>Aggregate_feature_69</th>\n",
       "      <th>Aggregate_feature_70</th>\n",
       "      <th>Aggregate_feature_71</th>\n",
       "      <th>Aggregate_feature_72</th>\n",
       "    </tr>\n",
       "  </thead>\n",
       "  <tbody>\n",
       "    <tr>\n",
       "      <th>0</th>\n",
       "      <td>232438397</td>\n",
       "      <td>2</td>\n",
       "      <td>1</td>\n",
       "      <td>0.163054</td>\n",
       "      <td>1.963790</td>\n",
       "      <td>-0.646376</td>\n",
       "      <td>12.409294</td>\n",
       "      <td>-0.063725</td>\n",
       "      <td>9.782742</td>\n",
       "      <td>12.414558</td>\n",
       "      <td>...</td>\n",
       "      <td>-0.577099</td>\n",
       "      <td>-0.613614</td>\n",
       "      <td>0.241128</td>\n",
       "      <td>0.241406</td>\n",
       "      <td>1.072793</td>\n",
       "      <td>0.085530</td>\n",
       "      <td>-0.131155</td>\n",
       "      <td>0.677799</td>\n",
       "      <td>-0.120613</td>\n",
       "      <td>-0.119792</td>\n",
       "    </tr>\n",
       "    <tr>\n",
       "      <th>1</th>\n",
       "      <td>232029206</td>\n",
       "      <td>2</td>\n",
       "      <td>1</td>\n",
       "      <td>-0.005027</td>\n",
       "      <td>0.578941</td>\n",
       "      <td>-0.091383</td>\n",
       "      <td>4.380281</td>\n",
       "      <td>-0.063725</td>\n",
       "      <td>4.667146</td>\n",
       "      <td>0.851305</td>\n",
       "      <td>...</td>\n",
       "      <td>-0.577099</td>\n",
       "      <td>-0.613614</td>\n",
       "      <td>0.241128</td>\n",
       "      <td>0.241406</td>\n",
       "      <td>0.604120</td>\n",
       "      <td>0.008632</td>\n",
       "      <td>-0.131155</td>\n",
       "      <td>0.333211</td>\n",
       "      <td>-0.120613</td>\n",
       "      <td>-0.119792</td>\n",
       "    </tr>\n",
       "    <tr>\n",
       "      <th>2</th>\n",
       "      <td>232344069</td>\n",
       "      <td>2</td>\n",
       "      <td>1</td>\n",
       "      <td>-0.147852</td>\n",
       "      <td>-0.184668</td>\n",
       "      <td>-1.201369</td>\n",
       "      <td>-0.121970</td>\n",
       "      <td>-0.043875</td>\n",
       "      <td>-0.113002</td>\n",
       "      <td>-0.061584</td>\n",
       "      <td>...</td>\n",
       "      <td>-0.577099</td>\n",
       "      <td>-0.613614</td>\n",
       "      <td>0.241128</td>\n",
       "      <td>0.241406</td>\n",
       "      <td>0.018279</td>\n",
       "      <td>-0.087490</td>\n",
       "      <td>-0.131155</td>\n",
       "      <td>-0.097524</td>\n",
       "      <td>-0.120613</td>\n",
       "      <td>-0.119792</td>\n",
       "    </tr>\n",
       "    <tr>\n",
       "      <th>3</th>\n",
       "      <td>27553029</td>\n",
       "      <td>2</td>\n",
       "      <td>1</td>\n",
       "      <td>-0.151357</td>\n",
       "      <td>-0.184668</td>\n",
       "      <td>-1.201369</td>\n",
       "      <td>-0.121970</td>\n",
       "      <td>-0.043875</td>\n",
       "      <td>-0.113002</td>\n",
       "      <td>-0.061584</td>\n",
       "      <td>...</td>\n",
       "      <td>-0.539735</td>\n",
       "      <td>-0.582077</td>\n",
       "      <td>-0.979074</td>\n",
       "      <td>-0.978556</td>\n",
       "      <td>0.018279</td>\n",
       "      <td>-0.087490</td>\n",
       "      <td>-0.131155</td>\n",
       "      <td>-0.097524</td>\n",
       "      <td>-0.120613</td>\n",
       "      <td>-0.119792</td>\n",
       "    </tr>\n",
       "    <tr>\n",
       "      <th>4</th>\n",
       "      <td>3881097</td>\n",
       "      <td>2</td>\n",
       "      <td>1</td>\n",
       "      <td>-0.172306</td>\n",
       "      <td>-0.184668</td>\n",
       "      <td>-1.201369</td>\n",
       "      <td>0.028105</td>\n",
       "      <td>-0.043875</td>\n",
       "      <td>-0.029140</td>\n",
       "      <td>0.242712</td>\n",
       "      <td>...</td>\n",
       "      <td>-0.577099</td>\n",
       "      <td>-0.600999</td>\n",
       "      <td>0.241128</td>\n",
       "      <td>0.241406</td>\n",
       "      <td>0.018279</td>\n",
       "      <td>-0.068266</td>\n",
       "      <td>-0.084674</td>\n",
       "      <td>-0.054450</td>\n",
       "      <td>-1.760926</td>\n",
       "      <td>-1.760984</td>\n",
       "    </tr>\n",
       "  </tbody>\n",
       "</table>\n",
       "<p>5 rows × 168 columns</p>\n",
       "</div>"
      ],
      "text/plain": [
       "        txId class  Time step  Local_feature_1  Local_feature_2  \\\n",
       "0  232438397     2          1         0.163054         1.963790   \n",
       "1  232029206     2          1        -0.005027         0.578941   \n",
       "2  232344069     2          1        -0.147852        -0.184668   \n",
       "3   27553029     2          1        -0.151357        -0.184668   \n",
       "4    3881097     2          1        -0.172306        -0.184668   \n",
       "\n",
       "   Local_feature_3  Local_feature_4  Local_feature_5  Local_feature_6  \\\n",
       "0        -0.646376        12.409294        -0.063725         9.782742   \n",
       "1        -0.091383         4.380281        -0.063725         4.667146   \n",
       "2        -1.201369        -0.121970        -0.043875        -0.113002   \n",
       "3        -1.201369        -0.121970        -0.043875        -0.113002   \n",
       "4        -1.201369         0.028105        -0.043875        -0.029140   \n",
       "\n",
       "   Local_feature_7  ...  Aggregate_feature_63  Aggregate_feature_64  \\\n",
       "0        12.414558  ...             -0.577099             -0.613614   \n",
       "1         0.851305  ...             -0.577099             -0.613614   \n",
       "2        -0.061584  ...             -0.577099             -0.613614   \n",
       "3        -0.061584  ...             -0.539735             -0.582077   \n",
       "4         0.242712  ...             -0.577099             -0.600999   \n",
       "\n",
       "   Aggregate_feature_65  Aggregate_feature_66  Aggregate_feature_67  \\\n",
       "0              0.241128              0.241406              1.072793   \n",
       "1              0.241128              0.241406              0.604120   \n",
       "2              0.241128              0.241406              0.018279   \n",
       "3             -0.979074             -0.978556              0.018279   \n",
       "4              0.241128              0.241406              0.018279   \n",
       "\n",
       "   Aggregate_feature_68  Aggregate_feature_69  Aggregate_feature_70  \\\n",
       "0              0.085530             -0.131155              0.677799   \n",
       "1              0.008632             -0.131155              0.333211   \n",
       "2             -0.087490             -0.131155             -0.097524   \n",
       "3             -0.087490             -0.131155             -0.097524   \n",
       "4             -0.068266             -0.084674             -0.054450   \n",
       "\n",
       "   Aggregate_feature_71  Aggregate_feature_72  \n",
       "0             -0.120613             -0.119792  \n",
       "1             -0.120613             -0.119792  \n",
       "2             -0.120613             -0.119792  \n",
       "3             -0.120613             -0.119792  \n",
       "4             -1.760926             -1.760984  \n",
       "\n",
       "[5 rows x 168 columns]"
      ]
     },
     "execution_count": 18,
     "metadata": {},
     "output_type": "execute_result"
    }
   ],
   "source": [
    "selected_ids = df_class_feature.loc[(df_class_feature['class'] != 3), 'txId']\n",
    "df_edges_selected = df_edges.loc[df_edges['txId1'].isin(selected_ids)]\n",
    "df_classes_selected = df_classes.loc[df_classes['txId'].isin(selected_ids)]\n",
    "df_features_selected = df_features.loc[df_features['txId'].isin(selected_ids)]\n",
    "\n",
    "# Merge Class and features\n",
    "df_class_feature_selected = pd.merge(df_classes_selected, df_features_selected )\n",
    "df_class_feature_selected.head()"
   ]
  },
  {
   "cell_type": "code",
   "execution_count": 19,
   "metadata": {
    "execution": {
     "iopub.execute_input": "2020-11-17T14:47:42.414009Z",
     "iopub.status.busy": "2020-11-17T14:47:42.413145Z",
     "iopub.status.idle": "2020-11-17T14:47:42.468081Z",
     "shell.execute_reply": "2020-11-17T14:47:42.467298Z"
    },
    "papermill": {
     "duration": 0.11138,
     "end_time": "2020-11-17T14:47:42.468210",
     "exception": false,
     "start_time": "2020-11-17T14:47:42.356830",
     "status": "completed"
    },
    "tags": []
   },
   "outputs": [],
   "source": [
    "X = df_class_feature_selected.drop(columns=['txId', 'class', 'Time step']) # drop class, text id and time step\n",
    "y = df_class_feature_selected[['class']]\n",
    "\n",
    "# in this case, class 2 corresponds to licit transactions, we chang this to 0 as our interest is the ilicit transactions\n",
    "y = y['class'].apply(lambda x: 0 if x == '2' else 1 )"
   ]
  },
  {
   "cell_type": "code",
   "execution_count": 20,
   "metadata": {},
   "outputs": [],
   "source": [
    "X1 = df_class_feature_selected.drop(columns=[ 'class']) # drop class, text id and time step\n",
    "y1 = df_class_feature_selected[['class']]\n",
    "\n",
    "# in this case, class 2 corresponds to licit transactions, we chang this to 0 as our interest is the ilicit transactions\n",
    "y1 = y1['class'].apply(lambda x: 0 if x == '2' else 1 )"
   ]
  },
  {
   "cell_type": "code",
   "execution_count": 21,
   "metadata": {},
   "outputs": [],
   "source": [
    "df = pd.concat([X1,y1],axis=1)"
   ]
  },
  {
   "cell_type": "code",
   "execution_count": 22,
   "metadata": {},
   "outputs": [
    {
     "data": {
      "text/html": [
       "<div>\n",
       "<style scoped>\n",
       "    .dataframe tbody tr th:only-of-type {\n",
       "        vertical-align: middle;\n",
       "    }\n",
       "\n",
       "    .dataframe tbody tr th {\n",
       "        vertical-align: top;\n",
       "    }\n",
       "\n",
       "    .dataframe thead th {\n",
       "        text-align: right;\n",
       "    }\n",
       "</style>\n",
       "<table border=\"1\" class=\"dataframe\">\n",
       "  <thead>\n",
       "    <tr style=\"text-align: right;\">\n",
       "      <th></th>\n",
       "      <th>txId</th>\n",
       "      <th>Time step</th>\n",
       "      <th>Local_feature_1</th>\n",
       "      <th>Local_feature_2</th>\n",
       "      <th>Local_feature_3</th>\n",
       "      <th>Local_feature_4</th>\n",
       "      <th>Local_feature_5</th>\n",
       "      <th>Local_feature_6</th>\n",
       "      <th>Local_feature_7</th>\n",
       "      <th>Local_feature_8</th>\n",
       "      <th>...</th>\n",
       "      <th>Aggregate_feature_64</th>\n",
       "      <th>Aggregate_feature_65</th>\n",
       "      <th>Aggregate_feature_66</th>\n",
       "      <th>Aggregate_feature_67</th>\n",
       "      <th>Aggregate_feature_68</th>\n",
       "      <th>Aggregate_feature_69</th>\n",
       "      <th>Aggregate_feature_70</th>\n",
       "      <th>Aggregate_feature_71</th>\n",
       "      <th>Aggregate_feature_72</th>\n",
       "      <th>class</th>\n",
       "    </tr>\n",
       "  </thead>\n",
       "  <tbody>\n",
       "    <tr>\n",
       "      <th>0</th>\n",
       "      <td>232438397</td>\n",
       "      <td>1</td>\n",
       "      <td>0.163054</td>\n",
       "      <td>1.963790</td>\n",
       "      <td>-0.646376</td>\n",
       "      <td>12.409294</td>\n",
       "      <td>-0.063725</td>\n",
       "      <td>9.782742</td>\n",
       "      <td>12.414558</td>\n",
       "      <td>-0.163645</td>\n",
       "      <td>...</td>\n",
       "      <td>-0.613614</td>\n",
       "      <td>0.241128</td>\n",
       "      <td>0.241406</td>\n",
       "      <td>1.072793</td>\n",
       "      <td>0.085530</td>\n",
       "      <td>-0.131155</td>\n",
       "      <td>0.677799</td>\n",
       "      <td>-0.120613</td>\n",
       "      <td>-0.119792</td>\n",
       "      <td>0</td>\n",
       "    </tr>\n",
       "    <tr>\n",
       "      <th>1</th>\n",
       "      <td>232029206</td>\n",
       "      <td>1</td>\n",
       "      <td>-0.005027</td>\n",
       "      <td>0.578941</td>\n",
       "      <td>-0.091383</td>\n",
       "      <td>4.380281</td>\n",
       "      <td>-0.063725</td>\n",
       "      <td>4.667146</td>\n",
       "      <td>0.851305</td>\n",
       "      <td>-0.163645</td>\n",
       "      <td>...</td>\n",
       "      <td>-0.613614</td>\n",
       "      <td>0.241128</td>\n",
       "      <td>0.241406</td>\n",
       "      <td>0.604120</td>\n",
       "      <td>0.008632</td>\n",
       "      <td>-0.131155</td>\n",
       "      <td>0.333211</td>\n",
       "      <td>-0.120613</td>\n",
       "      <td>-0.119792</td>\n",
       "      <td>0</td>\n",
       "    </tr>\n",
       "    <tr>\n",
       "      <th>2</th>\n",
       "      <td>232344069</td>\n",
       "      <td>1</td>\n",
       "      <td>-0.147852</td>\n",
       "      <td>-0.184668</td>\n",
       "      <td>-1.201369</td>\n",
       "      <td>-0.121970</td>\n",
       "      <td>-0.043875</td>\n",
       "      <td>-0.113002</td>\n",
       "      <td>-0.061584</td>\n",
       "      <td>-0.137933</td>\n",
       "      <td>...</td>\n",
       "      <td>-0.613614</td>\n",
       "      <td>0.241128</td>\n",
       "      <td>0.241406</td>\n",
       "      <td>0.018279</td>\n",
       "      <td>-0.087490</td>\n",
       "      <td>-0.131155</td>\n",
       "      <td>-0.097524</td>\n",
       "      <td>-0.120613</td>\n",
       "      <td>-0.119792</td>\n",
       "      <td>0</td>\n",
       "    </tr>\n",
       "    <tr>\n",
       "      <th>3</th>\n",
       "      <td>27553029</td>\n",
       "      <td>1</td>\n",
       "      <td>-0.151357</td>\n",
       "      <td>-0.184668</td>\n",
       "      <td>-1.201369</td>\n",
       "      <td>-0.121970</td>\n",
       "      <td>-0.043875</td>\n",
       "      <td>-0.113002</td>\n",
       "      <td>-0.061584</td>\n",
       "      <td>-0.141519</td>\n",
       "      <td>...</td>\n",
       "      <td>-0.582077</td>\n",
       "      <td>-0.979074</td>\n",
       "      <td>-0.978556</td>\n",
       "      <td>0.018279</td>\n",
       "      <td>-0.087490</td>\n",
       "      <td>-0.131155</td>\n",
       "      <td>-0.097524</td>\n",
       "      <td>-0.120613</td>\n",
       "      <td>-0.119792</td>\n",
       "      <td>0</td>\n",
       "    </tr>\n",
       "    <tr>\n",
       "      <th>4</th>\n",
       "      <td>3881097</td>\n",
       "      <td>1</td>\n",
       "      <td>-0.172306</td>\n",
       "      <td>-0.184668</td>\n",
       "      <td>-1.201369</td>\n",
       "      <td>0.028105</td>\n",
       "      <td>-0.043875</td>\n",
       "      <td>-0.029140</td>\n",
       "      <td>0.242712</td>\n",
       "      <td>-0.163640</td>\n",
       "      <td>...</td>\n",
       "      <td>-0.600999</td>\n",
       "      <td>0.241128</td>\n",
       "      <td>0.241406</td>\n",
       "      <td>0.018279</td>\n",
       "      <td>-0.068266</td>\n",
       "      <td>-0.084674</td>\n",
       "      <td>-0.054450</td>\n",
       "      <td>-1.760926</td>\n",
       "      <td>-1.760984</td>\n",
       "      <td>0</td>\n",
       "    </tr>\n",
       "  </tbody>\n",
       "</table>\n",
       "<p>5 rows × 168 columns</p>\n",
       "</div>"
      ],
      "text/plain": [
       "        txId  Time step  Local_feature_1  Local_feature_2  Local_feature_3  \\\n",
       "0  232438397          1         0.163054         1.963790        -0.646376   \n",
       "1  232029206          1        -0.005027         0.578941        -0.091383   \n",
       "2  232344069          1        -0.147852        -0.184668        -1.201369   \n",
       "3   27553029          1        -0.151357        -0.184668        -1.201369   \n",
       "4    3881097          1        -0.172306        -0.184668        -1.201369   \n",
       "\n",
       "   Local_feature_4  Local_feature_5  Local_feature_6  Local_feature_7  \\\n",
       "0        12.409294        -0.063725         9.782742        12.414558   \n",
       "1         4.380281        -0.063725         4.667146         0.851305   \n",
       "2        -0.121970        -0.043875        -0.113002        -0.061584   \n",
       "3        -0.121970        -0.043875        -0.113002        -0.061584   \n",
       "4         0.028105        -0.043875        -0.029140         0.242712   \n",
       "\n",
       "   Local_feature_8  ...  Aggregate_feature_64  Aggregate_feature_65  \\\n",
       "0        -0.163645  ...             -0.613614              0.241128   \n",
       "1        -0.163645  ...             -0.613614              0.241128   \n",
       "2        -0.137933  ...             -0.613614              0.241128   \n",
       "3        -0.141519  ...             -0.582077             -0.979074   \n",
       "4        -0.163640  ...             -0.600999              0.241128   \n",
       "\n",
       "   Aggregate_feature_66  Aggregate_feature_67  Aggregate_feature_68  \\\n",
       "0              0.241406              1.072793              0.085530   \n",
       "1              0.241406              0.604120              0.008632   \n",
       "2              0.241406              0.018279             -0.087490   \n",
       "3             -0.978556              0.018279             -0.087490   \n",
       "4              0.241406              0.018279             -0.068266   \n",
       "\n",
       "   Aggregate_feature_69  Aggregate_feature_70  Aggregate_feature_71  \\\n",
       "0             -0.131155              0.677799             -0.120613   \n",
       "1             -0.131155              0.333211             -0.120613   \n",
       "2             -0.131155             -0.097524             -0.120613   \n",
       "3             -0.131155             -0.097524             -0.120613   \n",
       "4             -0.084674             -0.054450             -1.760926   \n",
       "\n",
       "   Aggregate_feature_72  class  \n",
       "0             -0.119792      0  \n",
       "1             -0.119792      0  \n",
       "2             -0.119792      0  \n",
       "3             -0.119792      0  \n",
       "4             -1.760984      0  \n",
       "\n",
       "[5 rows x 168 columns]"
      ]
     },
     "execution_count": 22,
     "metadata": {},
     "output_type": "execute_result"
    }
   ],
   "source": [
    "df.head()"
   ]
  },
  {
   "cell_type": "markdown",
   "metadata": {
    "papermill": {
     "duration": 0.048249,
     "end_time": "2020-11-17T14:47:42.565091",
     "exception": false,
     "start_time": "2020-11-17T14:47:42.516842",
     "status": "completed"
    },
    "tags": []
   },
   "source": [
    "* Split train/test data"
   ]
  },
  {
   "cell_type": "code",
   "execution_count": 23,
   "metadata": {
    "execution": {
     "iopub.execute_input": "2020-11-17T14:47:42.669003Z",
     "iopub.status.busy": "2020-11-17T14:47:42.668216Z",
     "iopub.status.idle": "2020-11-17T14:47:42.730925Z",
     "shell.execute_reply": "2020-11-17T14:47:42.730226Z"
    },
    "papermill": {
     "duration": 0.118934,
     "end_time": "2020-11-17T14:47:42.731087",
     "exception": false,
     "start_time": "2020-11-17T14:47:42.612153",
     "status": "completed"
    },
    "tags": []
   },
   "outputs": [],
   "source": [
    "X_train, X_test, y_train, y_test = train_test_split(X,y,test_size=0.25,random_state=15)"
   ]
  },
  {
   "cell_type": "markdown",
   "metadata": {
    "papermill": {
     "duration": 0.045758,
     "end_time": "2020-11-17T14:47:42.824139",
     "exception": false,
     "start_time": "2020-11-17T14:47:42.778381",
     "status": "completed"
    },
    "tags": []
   },
   "source": [
    "## Random Forest Classifier"
   ]
  },
  {
   "cell_type": "code",
   "execution_count": 24,
   "metadata": {
    "execution": {
     "iopub.execute_input": "2020-11-17T14:47:42.964366Z",
     "iopub.status.busy": "2020-11-17T14:47:42.962726Z",
     "iopub.status.idle": "2020-11-17T14:48:01.344831Z",
     "shell.execute_reply": "2020-11-17T14:48:01.343896Z"
    },
    "papermill": {
     "duration": 18.466554,
     "end_time": "2020-11-17T14:48:01.344979",
     "exception": false,
     "start_time": "2020-11-17T14:47:42.878425",
     "status": "completed"
    },
    "tags": []
   },
   "outputs": [
    {
     "name": "stdout",
     "output_type": "stream",
     "text": [
      "Random Forest Classifier\n",
      "Precision:0.997 \n",
      "Recall:0.885 \n",
      "F1 Score:0.937\n"
     ]
    }
   ],
   "source": [
    "model_RF = RandomForestClassifier().fit(X_train,y_train)\n",
    "y_preds = model_RF.predict(X_test)\n",
    "prec,rec,f1,num = precision_recall_fscore_support(y_test, y_preds)\n",
    "\n",
    "print(\"Random Forest Classifier\")\n",
    "print(\"Precision:%.3f \\nRecall:%.3f \\nF1 Score:%.3f\"%(prec[1],rec[1],f1[1]))"
   ]
  },
  {
   "cell_type": "code",
   "execution_count": 25,
   "metadata": {},
   "outputs": [
    {
     "name": "stdout",
     "output_type": "stream",
     "text": [
      "              precision    recall  f1-score   support\n",
      "\n",
      "           0       0.99      1.00      0.99     10523\n",
      "           1       1.00      0.88      0.94      1118\n",
      "\n",
      "    accuracy                           0.99     11641\n",
      "   macro avg       0.99      0.94      0.97     11641\n",
      "weighted avg       0.99      0.99      0.99     11641\n",
      "\n"
     ]
    }
   ],
   "source": [
    "print(classification_report(y_test,y_preds))"
   ]
  },
  {
   "cell_type": "code",
   "execution_count": 26,
   "metadata": {
    "scrolled": true
   },
   "outputs": [
    {
     "data": {
      "image/png": "[encoded data removed]",
      "text/plain": [
       "<Figure size 432x288 with 1 Axes>"
      ]
     },
     "metadata": {
      "needs_background": "light"
     },
     "output_type": "display_data"
    }
   ],
   "source": [
    "y_pred_prob_rf = model_RF.predict_proba(X_test)[:,1]\n",
    "fpr, tpr, thresholds = roc_curve(y_test,y_pred_prob_rf)\n",
    "# Plot ROC curve\n",
    "plt.plot([0, 1], [0, 1], 'k--')\n",
    "plt.plot(fpr, tpr)\n",
    "plt.xlabel('False Positive Rate')\n",
    "plt.ylabel('True Positive Rate')\n",
    "plt.title('ROC')\n",
    "plt.show()"
   ]
  },
  {
   "cell_type": "code",
   "execution_count": 27,
   "metadata": {},
   "outputs": [
    {
     "data": {
      "text/plain": [
       "0.9421651474060483"
      ]
     },
     "execution_count": 27,
     "metadata": {},
     "output_type": "execute_result"
    }
   ],
   "source": [
    "roc_auc_score(y_test,y_preds)"
   ]
  },
  {
   "cell_type": "code",
   "execution_count": 28,
   "metadata": {
    "scrolled": false
   },
   "outputs": [
    {
     "data": {
      "text/plain": [
       "<sklearn.metrics._plot.confusion_matrix.ConfusionMatrixDisplay at 0x7fd02d6a9b38>"
      ]
     },
     "execution_count": 28,
     "metadata": {},
     "output_type": "execute_result"
    },
    {
     "data": {
      "image/png": "[encoded data removed]",
      "text/plain": [
       "<Figure size 432x288 with 2 Axes>"
      ]
     },
     "metadata": {
      "needs_background": "light"
     },
     "output_type": "display_data"
    }
   ],
   "source": [
    "ConfusionMatrixDisplay.from_predictions(y_test,y_preds)"
   ]
  },
  {
   "cell_type": "code",
   "execution_count": 85,
   "metadata": {},
   "outputs": [],
   "source": [
    "#from lightgbm import LGBMClassifier\n",
    "from catboost import CatBoostClassifier\n",
    "#from xgboost import XGBClassifier\n",
    "from sklearn.linear_model import LogisticRegression\n",
    "from sklearn.linear_model import RidgeClassifier\n",
    "from sklearn.linear_model import SGDClassifier\n",
    "from sklearn.linear_model import PassiveAggressiveClassifier\n",
    "from sklearn.neighbors import KNeighborsClassifier\n",
    "from sklearn.tree import DecisionTreeClassifier\n",
    "from sklearn.tree import ExtraTreeClassifier\n",
    "from sklearn.svm import LinearSVC\n",
    "from sklearn.svm import SVC\n",
    "from sklearn.naive_bayes import GaussianNB\n",
    "from sklearn.ensemble import AdaBoostClassifier\n",
    "from sklearn.ensemble import BaggingClassifier\n",
    "from sklearn.ensemble import RandomForestClassifier\n",
    "from sklearn.ensemble import ExtraTreesClassifier\n",
    "from sklearn.gaussian_process import GaussianProcessClassifier\n",
    "from sklearn.ensemble import GradientBoostingClassifier\n",
    "from sklearn.discriminant_analysis import LinearDiscriminantAnalysis\n",
    "from sklearn.discriminant_analysis import QuadraticDiscriminantAnalysis\n",
    "from sklearn.svm import OneClassSVM\n",
    "from sklearn.neural_network import MLPClassifier\n",
    "from sklearn.neighbors import RadiusNeighborsClassifier\n",
    "from sklearn.linear_model import SGDClassifier\n",
    "from sklearn.linear_model import RidgeClassifierCV\n",
    "from sklearn.naive_bayes import BernoulliNB\n",
    "from sklearn.calibration import CalibratedClassifierCV\n",
    "from sklearn.naive_bayes import GaussianNB\n",
    "from sklearn.semi_supervised import LabelPropagation\n",
    "from sklearn.semi_supervised import LabelSpreading\n",
    "from sklearn.linear_model import LogisticRegressionCV\n",
    "from sklearn.naive_bayes import MultinomialNB\n",
    "from sklearn.neighbors import NearestCentroid\n",
    "from sklearn.svm import NuSVC\n",
    "from sklearn.linear_model import Perceptron"
   ]
  },
  {
   "cell_type": "code",
   "execution_count": 96,
   "metadata": {},
   "outputs": [],
   "source": [
    "def get_models():\n",
    "    models = list()\n",
    "    models.append(LogisticRegression())\n",
    "      # models.append(RidgeClassifier())\n",
    "      # models.append(SGDClassifier())\n",
    "      # models.append(PassiveAggressiveClassifier())\n",
    "    models.append(KNeighborsClassifier())\n",
    "    models.append(DecisionTreeClassifier())\n",
    "    models.append(ExtraTreeClassifier())\n",
    "      # models.append(LinearSVC())\n",
    "    models.append(SVC(probability=True))\n",
    "    models.append(GaussianNB())\n",
    "    models.append(AdaBoostClassifier())\n",
    "    models.append(BaggingClassifier())\n",
    "    models.append(RandomForestClassifier())\n",
    "    models.append(ExtraTreesClassifier())\n",
    "    models.append(GaussianProcessClassifier())\n",
    "    models.append(GradientBoostingClassifier())\n",
    "    models.append(LinearDiscriminantAnalysis())\n",
    "    models.append(QuadraticDiscriminantAnalysis())\n",
    "    #models.append(OneClassSVM())\n",
    "    models.append(MLPClassifier())\n",
    "    #models.append(RadiusNeighborsClassifier())\n",
    "    #models.append(RidgeClassifierCV())\n",
    "    models.append(BernoulliNB())\n",
    "    models.append(CalibratedClassifierCV())\n",
    "    models.append(GaussianNB())\n",
    "      ##models.append(LabelPropagation())\n",
    "      #models.append(MultinomialNB())\n",
    "    models.append(LogisticRegressionCV())\n",
    "      ##models.append(LabelSpreading())\n",
    "      ##models.append(NearestCentroid())\n",
    "      #models.append(NuSVC())\n",
    "      #models.append(Perceptron())\n",
    "    #models.append(LGBMClassifier())\n",
    "    models.append(CatBoostClassifier())\n",
    "    #models.append(XGBClassifier())\n",
    "    return models"
   ]
  },
  {
   "cell_type": "code",
   "execution_count": 99,
   "metadata": {},
   "outputs": [],
   "source": [
    "models = get_models()"
   ]
  },
  {
   "cell_type": "code",
   "execution_count": 100,
   "metadata": {
    "scrolled": false
   },
   "outputs": [
    {
     "name": "stdout",
     "output_type": "stream",
     "text": [
      "LogisticRegression() starting\n"
     ]
    },
    {
     "name": "stderr",
     "output_type": "stream",
     "text": [
      "/home/scypyuser/anaconda3/lib/python3.7/site-packages/sklearn/utils/validation.py:985: DataConversionWarning: A column-vector y was passed when a 1d array was expected. Please change the shape of y to (n_samples, ), for example using ravel().\n",
      "  y = column_or_1d(y, warn=True)\n",
      "/home/scypyuser/anaconda3/lib/python3.7/site-packages/sklearn/linear_model/_logistic.py:818: ConvergenceWarning: lbfgs failed to converge (status=1):\n",
      "STOP: TOTAL NO. of ITERATIONS REACHED LIMIT.\n",
      "\n",
      "Increase the number of iterations (max_iter) or scale the data as shown in:\n",
      "    https://scikit-learn.org/stable/modules/preprocessing.html\n",
      "Please also refer to the documentation for alternative solver options:\n",
      "    https://scikit-learn.org/stable/modules/linear_model.html#logistic-regression\n",
      "  extra_warning_msg=_LOGISTIC_SOLVER_CONVERGENCE_MSG,\n"
     ]
    },
    {
     "name": "stdout",
     "output_type": "stream",
     "text": [
      "LogisticRegression() fitted\n",
      "LogisticRegression() done\n",
      "[[62876   409]\n",
      " [ 2886  1073]]\n",
      "The Precision of  LogisticRegression() is  [0.95611447 0.72402159]\n",
      "The Accuracy score of LogisticRegression() is 0.9509993456665279\n",
      "The F1 score of  LogisticRegression() is 0.3944127917662194\n",
      "ROC_AUC score 0.6322826052444844\n",
      "Classification Report of LogisticRegression() is \n",
      "               precision    recall  f1-score   support\n",
      "\n",
      "           0       0.96      0.99      0.97     63285\n",
      "           1       0.72      0.27      0.39      3959\n",
      "\n",
      "    accuracy                           0.95     67244\n",
      "   macro avg       0.84      0.63      0.68     67244\n",
      "weighted avg       0.94      0.95      0.94     67244\n",
      "\n",
      "KNeighborsClassifier() starting\n",
      "KNeighborsClassifier() fitted\n",
      "KNeighborsClassifier() done\n"
     ]
    },
    {
     "name": "stderr",
     "output_type": "stream",
     "text": [
      "/home/scypyuser/anaconda3/lib/python3.7/site-packages/sklearn/neighbors/_classification.py:198: DataConversionWarning: A column-vector y was passed when a 1d array was expected. Please change the shape of y to (n_samples,), for example using ravel().\n",
      "  return self._fit(X, y)\n"
     ]
    },
    {
     "name": "stdout",
     "output_type": "stream",
     "text": [
      "[[62473   812]\n",
      " [  910  3049]]\n",
      "The Precision of  KNeighborsClassifier() is  [0.98564284 0.78969179]\n",
      "The Accuracy score of KNeighborsClassifier() is 0.9743917672952234\n",
      "The F1 score of  KNeighborsClassifier() is 0.7797953964194373\n",
      "ROC_AUC score 0.8786565655797636\n",
      "Classification Report of KNeighborsClassifier() is \n",
      "               precision    recall  f1-score   support\n",
      "\n",
      "           0       0.99      0.99      0.99     63285\n",
      "           1       0.79      0.77      0.78      3959\n",
      "\n",
      "    accuracy                           0.97     67244\n",
      "   macro avg       0.89      0.88      0.88     67244\n",
      "weighted avg       0.97      0.97      0.97     67244\n",
      "\n",
      "DecisionTreeClassifier() starting\n",
      "DecisionTreeClassifier() fitted\n",
      "DecisionTreeClassifier() done\n",
      "[[62740   545]\n",
      " [  450  3509]]\n",
      "The Precision of  DecisionTreeClassifier() is  [0.99287862 0.86556487]\n",
      "The Accuracy score of DecisionTreeClassifier() is 0.9852031408006662\n",
      "The F1 score of  DecisionTreeClassifier() is 0.8758267814800947\n",
      "ROC_AUC score 0.938861548857938\n",
      "Classification Report of DecisionTreeClassifier() is \n",
      "               precision    recall  f1-score   support\n",
      "\n",
      "           0       0.99      0.99      0.99     63285\n",
      "           1       0.87      0.89      0.88      3959\n",
      "\n",
      "    accuracy                           0.99     67244\n",
      "   macro avg       0.93      0.94      0.93     67244\n",
      "weighted avg       0.99      0.99      0.99     67244\n",
      "\n",
      "ExtraTreeClassifier() starting\n",
      "ExtraTreeClassifier() fitted\n",
      "ExtraTreeClassifier() done\n",
      "[[62382   903]\n",
      " [  729  3230]]\n",
      "The Precision of  ExtraTreeClassifier() is  [0.98844892 0.78151464]\n",
      "The Accuracy score of ExtraTreeClassifier() is 0.9757301766700375\n",
      "The F1 score of  ExtraTreeClassifier() is 0.7983193277310924\n",
      "ROC_AUC score 0.9007969037457356\n",
      "Classification Report of ExtraTreeClassifier() is \n",
      "               precision    recall  f1-score   support\n",
      "\n",
      "           0       0.99      0.99      0.99     63285\n",
      "           1       0.78      0.82      0.80      3959\n",
      "\n",
      "    accuracy                           0.98     67244\n",
      "   macro avg       0.88      0.90      0.89     67244\n",
      "weighted avg       0.98      0.98      0.98     67244\n",
      "\n",
      "SVC(probability=True) starting\n"
     ]
    },
    {
     "name": "stderr",
     "output_type": "stream",
     "text": [
      "/home/scypyuser/anaconda3/lib/python3.7/site-packages/sklearn/utils/validation.py:985: DataConversionWarning: A column-vector y was passed when a 1d array was expected. Please change the shape of y to (n_samples, ), for example using ravel().\n",
      "  y = column_or_1d(y, warn=True)\n"
     ]
    },
    {
     "name": "stdout",
     "output_type": "stream",
     "text": [
      "SVC(probability=True) fitted\n",
      "SVC(probability=True) done\n",
      "[[62458   827]\n",
      " [  950  3009]]\n",
      "The Precision of  SVC(probability=True) is  [0.98501766 0.78441084]\n",
      "The Accuracy score of SVC(probability=True) is 0.9735738504550592\n",
      "The F1 score of  SVC(probability=True) is 0.7720333547145607\n",
      "ROC_AUC score 0.8734862733314331\n",
      "Classification Report of SVC(probability=True) is \n",
      "               precision    recall  f1-score   support\n",
      "\n",
      "           0       0.99      0.99      0.99     63285\n",
      "           1       0.78      0.76      0.77      3959\n",
      "\n",
      "    accuracy                           0.97     67244\n",
      "   macro avg       0.88      0.87      0.88     67244\n",
      "weighted avg       0.97      0.97      0.97     67244\n",
      "\n",
      "GaussianNB() starting\n"
     ]
    },
    {
     "name": "stderr",
     "output_type": "stream",
     "text": [
      "/home/scypyuser/anaconda3/lib/python3.7/site-packages/sklearn/utils/validation.py:985: DataConversionWarning: A column-vector y was passed when a 1d array was expected. Please change the shape of y to (n_samples, ), for example using ravel().\n",
      "  y = column_or_1d(y, warn=True)\n"
     ]
    },
    {
     "name": "stdout",
     "output_type": "stream",
     "text": [
      "GaussianNB() fitted\n",
      "GaussianNB() done\n",
      "[[24999 38286]\n",
      " [  251  3708]]\n",
      "The Precision of  GaussianNB() is  [0.99005941 0.08829833]\n",
      "The Accuracy score of GaussianNB() is 0.42690797691987387\n",
      "The F1 score of  GaussianNB() is 0.16138228189672058\n",
      "ROC_AUC score 0.6658113343687947\n",
      "Classification Report of GaussianNB() is \n",
      "               precision    recall  f1-score   support\n",
      "\n",
      "           0       0.99      0.40      0.56     63285\n",
      "           1       0.09      0.94      0.16      3959\n",
      "\n",
      "    accuracy                           0.43     67244\n",
      "   macro avg       0.54      0.67      0.36     67244\n",
      "weighted avg       0.94      0.43      0.54     67244\n",
      "\n",
      "AdaBoostClassifier() starting\n"
     ]
    },
    {
     "name": "stderr",
     "output_type": "stream",
     "text": [
      "/home/scypyuser/anaconda3/lib/python3.7/site-packages/sklearn/utils/validation.py:985: DataConversionWarning: A column-vector y was passed when a 1d array was expected. Please change the shape of y to (n_samples, ), for example using ravel().\n",
      "  y = column_or_1d(y, warn=True)\n"
     ]
    },
    {
     "name": "stdout",
     "output_type": "stream",
     "text": [
      "AdaBoostClassifier() fitted\n",
      "AdaBoostClassifier() done\n",
      "[[62644   641]\n",
      " [  892  3067]]\n",
      "The Precision of  AdaBoostClassifier() is  [0.98596072 0.82713053]\n",
      "The Accuracy score of AdaBoostClassifier() is 0.977202426982333\n",
      "The F1 score of  AdaBoostClassifier() is 0.8000521716447111\n",
      "ROC_AUC score 0.8822808979684972\n",
      "Classification Report of AdaBoostClassifier() is \n",
      "               precision    recall  f1-score   support\n",
      "\n",
      "           0       0.99      0.99      0.99     63285\n",
      "           1       0.83      0.77      0.80      3959\n",
      "\n",
      "    accuracy                           0.98     67244\n",
      "   macro avg       0.91      0.88      0.89     67244\n",
      "weighted avg       0.98      0.98      0.98     67244\n",
      "\n",
      "BaggingClassifier() starting\n"
     ]
    },
    {
     "name": "stderr",
     "output_type": "stream",
     "text": [
      "/home/scypyuser/anaconda3/lib/python3.7/site-packages/sklearn/ensemble/_bagging.py:719: DataConversionWarning: A column-vector y was passed when a 1d array was expected. Please change the shape of y to (n_samples, ), for example using ravel().\n",
      "  y = column_or_1d(y, warn=True)\n"
     ]
    },
    {
     "name": "stdout",
     "output_type": "stream",
     "text": [
      "BaggingClassifier() fitted\n",
      "BaggingClassifier() done\n",
      "[[63140   145]\n",
      " [  493  3466]]\n",
      "The Precision of  BaggingClassifier() is  [0.99225245 0.95984492]\n",
      "The Accuracy score of BaggingClassifier() is 0.9905121646540955\n",
      "The F1 score of  BaggingClassifier() is 0.9157199471598414\n",
      "ROC_AUC score 0.9365911910985044\n",
      "Classification Report of BaggingClassifier() is \n",
      "               precision    recall  f1-score   support\n",
      "\n",
      "           0       0.99      1.00      0.99     63285\n",
      "           1       0.96      0.88      0.92      3959\n",
      "\n",
      "    accuracy                           0.99     67244\n",
      "   macro avg       0.98      0.94      0.96     67244\n",
      "weighted avg       0.99      0.99      0.99     67244\n",
      "\n",
      "RandomForestClassifier() starting\n"
     ]
    },
    {
     "name": "stderr",
     "output_type": "stream",
     "text": [
      "/home/scypyuser/anaconda3/lib/python3.7/site-packages/ipykernel_launcher.py:3: DataConversionWarning: A column-vector y was passed when a 1d array was expected. Please change the shape of y to (n_samples,), for example using ravel().\n",
      "  This is separate from the ipykernel package so we can avoid doing imports until\n"
     ]
    },
    {
     "name": "stdout",
     "output_type": "stream",
     "text": [
      "RandomForestClassifier() fitted\n",
      "RandomForestClassifier() done\n",
      "[[63186    99]\n",
      " [  498  3461]]\n",
      "The Precision of  RandomForestClassifier() is  [0.99218014 0.97219101]\n",
      "The Accuracy score of RandomForestClassifier() is 0.9911218844803997\n",
      "The F1 score of  RandomForestClassifier() is 0.9206011437691184\n",
      "ROC_AUC score 0.9363231537576346\n",
      "Classification Report of RandomForestClassifier() is \n",
      "               precision    recall  f1-score   support\n",
      "\n",
      "           0       0.99      1.00      1.00     63285\n",
      "           1       0.97      0.87      0.92      3959\n",
      "\n",
      "    accuracy                           0.99     67244\n",
      "   macro avg       0.98      0.94      0.96     67244\n",
      "weighted avg       0.99      0.99      0.99     67244\n",
      "\n",
      "ExtraTreesClassifier() starting\n"
     ]
    },
    {
     "name": "stderr",
     "output_type": "stream",
     "text": [
      "/home/scypyuser/anaconda3/lib/python3.7/site-packages/ipykernel_launcher.py:3: DataConversionWarning: A column-vector y was passed when a 1d array was expected. Please change the shape of y to (n_samples,), for example using ravel().\n",
      "  This is separate from the ipykernel package so we can avoid doing imports until\n"
     ]
    },
    {
     "name": "stdout",
     "output_type": "stream",
     "text": [
      "ExtraTreesClassifier() fitted\n",
      "ExtraTreesClassifier() done\n",
      "[[63076   209]\n",
      " [  585  3374]]\n",
      "The Precision of  ExtraTreesClassifier() is  [0.9908107  0.94166899]\n",
      "The Accuracy score of ExtraTreesClassifier() is 0.9881922550710844\n",
      "The F1 score of  ExtraTreesClassifier() is 0.8947228851763458\n",
      "ROC_AUC score 0.9244664463193015\n",
      "Classification Report of ExtraTreesClassifier() is \n",
      "               precision    recall  f1-score   support\n",
      "\n",
      "           0       0.99      1.00      0.99     63285\n",
      "           1       0.94      0.85      0.89      3959\n",
      "\n",
      "    accuracy                           0.99     67244\n",
      "   macro avg       0.97      0.92      0.94     67244\n",
      "weighted avg       0.99      0.99      0.99     67244\n",
      "\n",
      "GaussianProcessClassifier() starting\n"
     ]
    },
    {
     "name": "stderr",
     "output_type": "stream",
     "text": [
      "/home/scypyuser/anaconda3/lib/python3.7/site-packages/sklearn/utils/validation.py:985: DataConversionWarning: A column-vector y was passed when a 1d array was expected. Please change the shape of y to (n_samples, ), for example using ravel().\n",
      "  y = column_or_1d(y, warn=True)\n"
     ]
    },
    {
     "ename": "MemoryError",
     "evalue": "",
     "output_type": "error",
     "traceback": [
      "\u001b[0;31m---------------------------------------------------------------------------\u001b[0m",
      "\u001b[0;31mMemoryError\u001b[0m                               Traceback (most recent call last)",
      "\u001b[0;32m<ipython-input-100-84ba66437aab>\u001b[0m in \u001b[0;36m<module>\u001b[0;34m\u001b[0m\n\u001b[1;32m      1\u001b[0m \u001b[0;32mfor\u001b[0m \u001b[0mmodel\u001b[0m \u001b[0;32min\u001b[0m \u001b[0mmodels\u001b[0m\u001b[0;34m:\u001b[0m\u001b[0;34m\u001b[0m\u001b[0;34m\u001b[0m\u001b[0m\n\u001b[1;32m      2\u001b[0m     \u001b[0mprint\u001b[0m\u001b[0;34m(\u001b[0m\u001b[0mmodel\u001b[0m\u001b[0;34m,\u001b[0m\u001b[0;34m\"starting\"\u001b[0m\u001b[0;34m)\u001b[0m\u001b[0;34m\u001b[0m\u001b[0;34m\u001b[0m\u001b[0m\n\u001b[0;32m----> 3\u001b[0;31m     \u001b[0mpackage\u001b[0m \u001b[0;34m=\u001b[0m \u001b[0mmodel\u001b[0m\u001b[0;34m.\u001b[0m\u001b[0mfit\u001b[0m\u001b[0;34m(\u001b[0m\u001b[0mX_train\u001b[0m\u001b[0;34m,\u001b[0m \u001b[0my_train\u001b[0m\u001b[0;34m)\u001b[0m\u001b[0;34m\u001b[0m\u001b[0;34m\u001b[0m\u001b[0m\n\u001b[0m\u001b[1;32m      4\u001b[0m     \u001b[0mprint\u001b[0m\u001b[0;34m(\u001b[0m\u001b[0mmodel\u001b[0m\u001b[0;34m,\u001b[0m\u001b[0;34m\"fitted\"\u001b[0m\u001b[0;34m)\u001b[0m\u001b[0;34m\u001b[0m\u001b[0;34m\u001b[0m\u001b[0m\n\u001b[1;32m      5\u001b[0m     \u001b[0mprint\u001b[0m\u001b[0;34m(\u001b[0m\u001b[0mpackage\u001b[0m\u001b[0;34m,\u001b[0m\u001b[0;34m\"done\"\u001b[0m\u001b[0;34m)\u001b[0m\u001b[0;34m\u001b[0m\u001b[0;34m\u001b[0m\u001b[0m\n",
      "\u001b[0;32m~/anaconda3/lib/python3.7/site-packages/sklearn/gaussian_process/_gpc.py\u001b[0m in \u001b[0;36mfit\u001b[0;34m(self, X, y)\u001b[0m\n\u001b[1;32m    713\u001b[0m                 \u001b[0;32mraise\u001b[0m \u001b[0mValueError\u001b[0m\u001b[0;34m(\u001b[0m\u001b[0;34m\"Unknown multi-class mode %s\"\u001b[0m \u001b[0;34m%\u001b[0m \u001b[0mself\u001b[0m\u001b[0;34m.\u001b[0m\u001b[0mmulti_class\u001b[0m\u001b[0;34m)\u001b[0m\u001b[0;34m\u001b[0m\u001b[0;34m\u001b[0m\u001b[0m\n\u001b[1;32m    714\u001b[0m \u001b[0;34m\u001b[0m\u001b[0m\n\u001b[0;32m--> 715\u001b[0;31m         \u001b[0mself\u001b[0m\u001b[0;34m.\u001b[0m\u001b[0mbase_estimator_\u001b[0m\u001b[0;34m.\u001b[0m\u001b[0mfit\u001b[0m\u001b[0;34m(\u001b[0m\u001b[0mX\u001b[0m\u001b[0;34m,\u001b[0m \u001b[0my\u001b[0m\u001b[0;34m)\u001b[0m\u001b[0;34m\u001b[0m\u001b[0;34m\u001b[0m\u001b[0m\n\u001b[0m\u001b[1;32m    716\u001b[0m \u001b[0;34m\u001b[0m\u001b[0m\n\u001b[1;32m    717\u001b[0m         \u001b[0;32mif\u001b[0m \u001b[0mself\u001b[0m\u001b[0;34m.\u001b[0m\u001b[0mn_classes_\u001b[0m \u001b[0;34m>\u001b[0m \u001b[0;36m2\u001b[0m\u001b[0;34m:\u001b[0m\u001b[0;34m\u001b[0m\u001b[0;34m\u001b[0m\u001b[0m\n",
      "\u001b[0;32m~/anaconda3/lib/python3.7/site-packages/sklearn/gaussian_process/_gpc.py\u001b[0m in \u001b[0;36mfit\u001b[0;34m(self, X, y)\u001b[0m\n\u001b[1;32m    250\u001b[0m         \u001b[0;32melse\u001b[0m\u001b[0;34m:\u001b[0m\u001b[0;34m\u001b[0m\u001b[0;34m\u001b[0m\u001b[0m\n\u001b[1;32m    251\u001b[0m             self.log_marginal_likelihood_value_ = self.log_marginal_likelihood(\n\u001b[0;32m--> 252\u001b[0;31m                 \u001b[0mself\u001b[0m\u001b[0;34m.\u001b[0m\u001b[0mkernel_\u001b[0m\u001b[0;34m.\u001b[0m\u001b[0mtheta\u001b[0m\u001b[0;34m\u001b[0m\u001b[0;34m\u001b[0m\u001b[0m\n\u001b[0m\u001b[1;32m    253\u001b[0m             )\n\u001b[1;32m    254\u001b[0m \u001b[0;34m\u001b[0m\u001b[0m\n",
      "\u001b[0;32m~/anaconda3/lib/python3.7/site-packages/sklearn/gaussian_process/_gpc.py\u001b[0m in \u001b[0;36mlog_marginal_likelihood\u001b[0;34m(self, theta, eval_gradient, clone_kernel)\u001b[0m\n\u001b[1;32m    374\u001b[0m             \u001b[0mK\u001b[0m\u001b[0;34m,\u001b[0m \u001b[0mK_gradient\u001b[0m \u001b[0;34m=\u001b[0m \u001b[0mkernel\u001b[0m\u001b[0;34m(\u001b[0m\u001b[0mself\u001b[0m\u001b[0;34m.\u001b[0m\u001b[0mX_train_\u001b[0m\u001b[0;34m,\u001b[0m \u001b[0meval_gradient\u001b[0m\u001b[0;34m=\u001b[0m\u001b[0;32mTrue\u001b[0m\u001b[0;34m)\u001b[0m\u001b[0;34m\u001b[0m\u001b[0;34m\u001b[0m\u001b[0m\n\u001b[1;32m    375\u001b[0m         \u001b[0;32melse\u001b[0m\u001b[0;34m:\u001b[0m\u001b[0;34m\u001b[0m\u001b[0;34m\u001b[0m\u001b[0m\n\u001b[0;32m--> 376\u001b[0;31m             \u001b[0mK\u001b[0m \u001b[0;34m=\u001b[0m \u001b[0mkernel\u001b[0m\u001b[0;34m(\u001b[0m\u001b[0mself\u001b[0m\u001b[0;34m.\u001b[0m\u001b[0mX_train_\u001b[0m\u001b[0;34m)\u001b[0m\u001b[0;34m\u001b[0m\u001b[0;34m\u001b[0m\u001b[0m\n\u001b[0m\u001b[1;32m    377\u001b[0m \u001b[0;34m\u001b[0m\u001b[0m\n\u001b[1;32m    378\u001b[0m         \u001b[0;31m# Compute log-marginal-likelihood Z and also store some temporaries\u001b[0m\u001b[0;34m\u001b[0m\u001b[0;34m\u001b[0m\u001b[0;34m\u001b[0m\u001b[0m\n",
      "\u001b[0;32m~/anaconda3/lib/python3.7/site-packages/sklearn/gaussian_process/kernels.py\u001b[0m in \u001b[0;36m__call__\u001b[0;34m(self, X, Y, eval_gradient)\u001b[0m\n\u001b[1;32m    944\u001b[0m             )\n\u001b[1;32m    945\u001b[0m         \u001b[0;32melse\u001b[0m\u001b[0;34m:\u001b[0m\u001b[0;34m\u001b[0m\u001b[0;34m\u001b[0m\u001b[0m\n\u001b[0;32m--> 946\u001b[0;31m             \u001b[0;32mreturn\u001b[0m \u001b[0mself\u001b[0m\u001b[0;34m.\u001b[0m\u001b[0mk1\u001b[0m\u001b[0;34m(\u001b[0m\u001b[0mX\u001b[0m\u001b[0;34m,\u001b[0m \u001b[0mY\u001b[0m\u001b[0;34m)\u001b[0m \u001b[0;34m*\u001b[0m \u001b[0mself\u001b[0m\u001b[0;34m.\u001b[0m\u001b[0mk2\u001b[0m\u001b[0;34m(\u001b[0m\u001b[0mX\u001b[0m\u001b[0;34m,\u001b[0m \u001b[0mY\u001b[0m\u001b[0;34m)\u001b[0m\u001b[0;34m\u001b[0m\u001b[0;34m\u001b[0m\u001b[0m\n\u001b[0m\u001b[1;32m    947\u001b[0m \u001b[0;34m\u001b[0m\u001b[0m\n\u001b[1;32m    948\u001b[0m     \u001b[0;32mdef\u001b[0m \u001b[0mdiag\u001b[0m\u001b[0;34m(\u001b[0m\u001b[0mself\u001b[0m\u001b[0;34m,\u001b[0m \u001b[0mX\u001b[0m\u001b[0;34m)\u001b[0m\u001b[0;34m:\u001b[0m\u001b[0;34m\u001b[0m\u001b[0;34m\u001b[0m\u001b[0m\n",
      "\u001b[0;32m~/anaconda3/lib/python3.7/site-packages/sklearn/gaussian_process/kernels.py\u001b[0m in \u001b[0;36m__call__\u001b[0;34m(self, X, Y, eval_gradient)\u001b[0m\n\u001b[1;32m   1254\u001b[0m             \u001b[0;34m(\u001b[0m\u001b[0m_num_samples\u001b[0m\u001b[0;34m(\u001b[0m\u001b[0mX\u001b[0m\u001b[0;34m)\u001b[0m\u001b[0;34m,\u001b[0m \u001b[0m_num_samples\u001b[0m\u001b[0;34m(\u001b[0m\u001b[0mY\u001b[0m\u001b[0;34m)\u001b[0m\u001b[0;34m)\u001b[0m\u001b[0;34m,\u001b[0m\u001b[0;34m\u001b[0m\u001b[0;34m\u001b[0m\u001b[0m\n\u001b[1;32m   1255\u001b[0m             \u001b[0mself\u001b[0m\u001b[0;34m.\u001b[0m\u001b[0mconstant_value\u001b[0m\u001b[0;34m,\u001b[0m\u001b[0;34m\u001b[0m\u001b[0;34m\u001b[0m\u001b[0m\n\u001b[0;32m-> 1256\u001b[0;31m             \u001b[0mdtype\u001b[0m\u001b[0;34m=\u001b[0m\u001b[0mnp\u001b[0m\u001b[0;34m.\u001b[0m\u001b[0marray\u001b[0m\u001b[0;34m(\u001b[0m\u001b[0mself\u001b[0m\u001b[0;34m.\u001b[0m\u001b[0mconstant_value\u001b[0m\u001b[0;34m)\u001b[0m\u001b[0;34m.\u001b[0m\u001b[0mdtype\u001b[0m\u001b[0;34m,\u001b[0m\u001b[0;34m\u001b[0m\u001b[0;34m\u001b[0m\u001b[0m\n\u001b[0m\u001b[1;32m   1257\u001b[0m         )\n\u001b[1;32m   1258\u001b[0m         \u001b[0;32mif\u001b[0m \u001b[0meval_gradient\u001b[0m\u001b[0;34m:\u001b[0m\u001b[0;34m\u001b[0m\u001b[0;34m\u001b[0m\u001b[0m\n",
      "\u001b[0;32m~/anaconda3/lib/python3.7/site-packages/numpy/core/numeric.py\u001b[0m in \u001b[0;36mfull\u001b[0;34m(shape, fill_value, dtype, order)\u001b[0m\n\u001b[1;32m    333\u001b[0m     \u001b[0;32mif\u001b[0m \u001b[0mdtype\u001b[0m \u001b[0;32mis\u001b[0m \u001b[0;32mNone\u001b[0m\u001b[0;34m:\u001b[0m\u001b[0;34m\u001b[0m\u001b[0;34m\u001b[0m\u001b[0m\n\u001b[1;32m    334\u001b[0m         \u001b[0mdtype\u001b[0m \u001b[0;34m=\u001b[0m \u001b[0marray\u001b[0m\u001b[0;34m(\u001b[0m\u001b[0mfill_value\u001b[0m\u001b[0;34m)\u001b[0m\u001b[0;34m.\u001b[0m\u001b[0mdtype\u001b[0m\u001b[0;34m\u001b[0m\u001b[0;34m\u001b[0m\u001b[0m\n\u001b[0;32m--> 335\u001b[0;31m     \u001b[0ma\u001b[0m \u001b[0;34m=\u001b[0m \u001b[0mempty\u001b[0m\u001b[0;34m(\u001b[0m\u001b[0mshape\u001b[0m\u001b[0;34m,\u001b[0m \u001b[0mdtype\u001b[0m\u001b[0;34m,\u001b[0m \u001b[0morder\u001b[0m\u001b[0;34m)\u001b[0m\u001b[0;34m\u001b[0m\u001b[0;34m\u001b[0m\u001b[0m\n\u001b[0m\u001b[1;32m    336\u001b[0m     \u001b[0mmultiarray\u001b[0m\u001b[0;34m.\u001b[0m\u001b[0mcopyto\u001b[0m\u001b[0;34m(\u001b[0m\u001b[0ma\u001b[0m\u001b[0;34m,\u001b[0m \u001b[0mfill_value\u001b[0m\u001b[0;34m,\u001b[0m \u001b[0mcasting\u001b[0m\u001b[0;34m=\u001b[0m\u001b[0;34m'unsafe'\u001b[0m\u001b[0;34m)\u001b[0m\u001b[0;34m\u001b[0m\u001b[0;34m\u001b[0m\u001b[0m\n\u001b[1;32m    337\u001b[0m     \u001b[0;32mreturn\u001b[0m \u001b[0ma\u001b[0m\u001b[0;34m\u001b[0m\u001b[0;34m\u001b[0m\u001b[0m\n",
      "\u001b[0;31mMemoryError\u001b[0m: "
     ]
    },
    {
     "data": {
      "image/png": "[encoded data removed]",
      "text/plain": [
       "<Figure size 432x288 with 1 Axes>"
      ]
     },
     "metadata": {
      "needs_background": "light"
     },
     "output_type": "display_data"
    },
    {
     "data": {
      "image/png": "[encoded data removed]",
      "text/plain": [
       "<Figure size 432x288 with 2 Axes>"
      ]
     },
     "metadata": {
      "needs_background": "light"
     },
     "output_type": "display_data"
    },
    {
     "data": {
      "image/png": "[encoded data removed]",
      "text/plain": [
       "<Figure size 432x288 with 2 Axes>"
      ]
     },
     "metadata": {
      "needs_background": "light"
     },
     "output_type": "display_data"
    },
    {
     "data": {
      "image/png": "[encoded data removed]",
      "text/plain": [
       "<Figure size 432x288 with 2 Axes>"
      ]
     },
     "metadata": {
      "needs_background": "light"
     },
     "output_type": "display_data"
    },
    {
     "data": {
      "image/png": "[encoded data removed]",
      "text/plain": [
       "<Figure size 432x288 with 2 Axes>"
      ]
     },
     "metadata": {
      "needs_background": "light"
     },
     "output_type": "display_data"
    },
    {
     "data": {
      "image/png": "[encoded data removed]",
      "text/plain": [
       "<Figure size 432x288 with 2 Axes>"
      ]
     },
     "metadata": {
      "needs_background": "light"
     },
     "output_type": "display_data"
    },
    {
     "data": {
      "image/png": "[encoded data removed]",
      "text/plain": [
       "<Figure size 432x288 with 2 Axes>"
      ]
     },
     "metadata": {
      "needs_background": "light"
     },
     "output_type": "display_data"
    },
    {
     "data": {
      "image/png": "[encoded data removed]",
      "text/plain": [
       "<Figure size 432x288 with 2 Axes>"
      ]
     },
     "metadata": {
      "needs_background": "light"
     },
     "output_type": "display_data"
    },
    {
     "data": {
      "image/png": "[encoded data removed]",
      "text/plain": [
       "<Figure size 432x288 with 2 Axes>"
      ]
     },
     "metadata": {
      "needs_background": "light"
     },
     "output_type": "display_data"
    },
    {
     "data": {
      "image/png": "[encoded data removed]",
      "text/plain": [
       "<Figure size 432x288 with 2 Axes>"
      ]
     },
     "metadata": {
      "needs_background": "light"
     },
     "output_type": "display_data"
    },
    {
     "data": {
      "image/png": "[encoded data removed]",
      "text/plain": [
       "<Figure size 432x288 with 2 Axes>"
      ]
     },
     "metadata": {
      "needs_background": "light"
     },
     "output_type": "display_data"
    }
   ],
   "source": [
    "for model in models:\n",
    "    print(model,\"starting\")\n",
    "    package = model.fit(X_train, y_train)\n",
    "    print(model,\"fitted\")\n",
    "    print(package,\"done\")\n",
    "    y_predict = package.predict(X_test)\n",
    "    y_pred1 = package.predict_proba(X_test)\n",
    "    cm = confusion_matrix(y_test, y_predict)\n",
    "    print(cm)\n",
    "    #tn,fp,fn,tp = cm.ravel()\n",
    "    # print(tn)\n",
    "  # print(fp)\n",
    "  # print(fn)\n",
    "  # print(tp)\n",
    "  #precision = tp / (tp + fp)\n",
    "    precision = precision_score(y_test,y_predict,average=None)\n",
    "    print(\"The Precision of \",model,\"is \",precision)\n",
    "  #recall = tp / (tp + fn)\n",
    "  #print(\"the recall is \",recall)\n",
    "  #specificity = tn / (tn+fp)\n",
    "  #print(\"the specificity is \",specificity)\n",
    "    print(\"The Accuracy score of\",model,\"is\",accuracy_score(y_test, y_predict))\n",
    "    print(\"The F1 score of \",model,\"is\",f1_score(y_test,y_predict))\n",
    "    #print(\"ROC AUC score of \",model,\"is\",roc_auc_score(y_test,y_pred1,multi_class='ovr',average= 'weighted'))\n",
    "    print(\"ROC_AUC score\",roc_auc_score(y_test,y_predict))\n",
    "    print(\"Classification Report of\",model,\"is \\n\",classification_report(y_test, y_predict))\n",
    "    plt.title(model)\n",
    "    ConfusionMatrixDisplay.from_predictions(y_test,y_predict);"
   ]
  },
  {
   "cell_type": "markdown",
   "metadata": {
    "papermill": {
     "duration": 0.050186,
     "end_time": "2020-11-17T14:48:01.444743",
     "exception": false,
     "start_time": "2020-11-17T14:48:01.394557",
     "status": "completed"
    },
    "tags": []
   },
   "source": [
    "## Predicting 'unknown' transactions\n",
    "* Selecting 'unknown' ids"
   ]
  },
  {
   "cell_type": "code",
   "execution_count": 29,
   "metadata": {
    "execution": {
     "iopub.execute_input": "2020-11-17T14:48:01.584073Z",
     "iopub.status.busy": "2020-11-17T14:48:01.583257Z",
     "iopub.status.idle": "2020-11-17T14:48:01.738311Z",
     "shell.execute_reply": "2020-11-17T14:48:01.737590Z"
    },
    "papermill": {
     "duration": 0.243289,
     "end_time": "2020-11-17T14:48:01.738452",
     "exception": false,
     "start_time": "2020-11-17T14:48:01.495163",
     "status": "completed"
    },
    "tags": []
   },
   "outputs": [],
   "source": [
    "unknown_ids = df_class_feature.loc[(df_class_feature['class'] == 3), 'txId']\n",
    "\n",
    "df_edges_unknown = df_edges.loc[df_edges['txId1'].isin(unknown_ids)]\n",
    "df_classes_unknown = df_classes.loc[df_classes['txId'].isin(unknown_ids)]\n",
    "df_features_unknown = df_features.loc[df_features['txId'].isin(unknown_ids)]"
   ]
  },
  {
   "cell_type": "markdown",
   "metadata": {
    "papermill": {
     "duration": 0.050027,
     "end_time": "2020-11-17T14:48:01.838701",
     "exception": false,
     "start_time": "2020-11-17T14:48:01.788674",
     "status": "completed"
    },
    "tags": []
   },
   "source": [
    "* Predicting Class"
   ]
  },
  {
   "cell_type": "code",
   "execution_count": 30,
   "metadata": {
    "execution": {
     "iopub.execute_input": "2020-11-17T14:48:02.073092Z",
     "iopub.status.busy": "2020-11-17T14:48:02.071676Z",
     "iopub.status.idle": "2020-11-17T14:48:05.101242Z",
     "shell.execute_reply": "2020-11-17T14:48:05.101871Z"
    },
    "papermill": {
     "duration": 3.212227,
     "end_time": "2020-11-17T14:48:05.102054",
     "exception": false,
     "start_time": "2020-11-17T14:48:01.889827",
     "status": "completed"
    },
    "tags": []
   },
   "outputs": [],
   "source": [
    "X_unknown = df_features_unknown.drop(columns=['txId', 'Time step'])\n",
    "y_unknown_preds = model_RF.predict(X_unknown)"
   ]
  },
  {
   "cell_type": "code",
   "execution_count": 31,
   "metadata": {},
   "outputs": [
    {
     "data": {
      "text/plain": [
       "array([0, 0, 0, ..., 0, 0, 0])"
      ]
     },
     "execution_count": 31,
     "metadata": {},
     "output_type": "execute_result"
    }
   ],
   "source": [
    "y_unknown_preds"
   ]
  },
  {
   "cell_type": "markdown",
   "metadata": {
    "papermill": {
     "duration": 0.048292,
     "end_time": "2020-11-17T14:48:05.199964",
     "exception": false,
     "start_time": "2020-11-17T14:48:05.151672",
     "status": "completed"
    },
    "tags": []
   },
   "source": [
    "* Replacing 'unknown' class with the predicted one"
   ]
  },
  {
   "cell_type": "code",
   "execution_count": 32,
   "metadata": {
    "execution": {
     "iopub.execute_input": "2020-11-17T14:48:05.302004Z",
     "iopub.status.busy": "2020-11-17T14:48:05.300813Z",
     "iopub.status.idle": "2020-11-17T14:48:05.306976Z",
     "shell.execute_reply": "2020-11-17T14:48:05.307651Z"
    },
    "papermill": {
     "duration": 0.059853,
     "end_time": "2020-11-17T14:48:05.307816",
     "exception": false,
     "start_time": "2020-11-17T14:48:05.247963",
     "status": "completed"
    },
    "tags": []
   },
   "outputs": [],
   "source": [
    "df_classes_unknown = df_classes_unknown.copy()\n",
    "df_classes_unknown.loc[:, 'class'] = y_unknown_preds"
   ]
  },
  {
   "cell_type": "markdown",
   "metadata": {
    "papermill": {
     "duration": 0.047409,
     "end_time": "2020-11-17T14:48:05.402787",
     "exception": false,
     "start_time": "2020-11-17T14:48:05.355378",
     "status": "completed"
    },
    "tags": []
   },
   "source": [
    "* Merge class and features"
   ]
  },
  {
   "cell_type": "code",
   "execution_count": 33,
   "metadata": {
    "execution": {
     "iopub.execute_input": "2020-11-17T14:48:05.508048Z",
     "iopub.status.busy": "2020-11-17T14:48:05.506504Z",
     "iopub.status.idle": "2020-11-17T14:48:05.874465Z",
     "shell.execute_reply": "2020-11-17T14:48:05.875096Z"
    },
    "papermill": {
     "duration": 0.422938,
     "end_time": "2020-11-17T14:48:05.875258",
     "exception": false,
     "start_time": "2020-11-17T14:48:05.452320",
     "status": "completed"
    },
    "tags": []
   },
   "outputs": [
    {
     "data": {
      "text/html": [
       "<div>\n",
       "<style scoped>\n",
       "    .dataframe tbody tr th:only-of-type {\n",
       "        vertical-align: middle;\n",
       "    }\n",
       "\n",
       "    .dataframe tbody tr th {\n",
       "        vertical-align: top;\n",
       "    }\n",
       "\n",
       "    .dataframe thead th {\n",
       "        text-align: right;\n",
       "    }\n",
       "</style>\n",
       "<table border=\"1\" class=\"dataframe\">\n",
       "  <thead>\n",
       "    <tr style=\"text-align: right;\">\n",
       "      <th></th>\n",
       "      <th>txId</th>\n",
       "      <th>class</th>\n",
       "      <th>Time step</th>\n",
       "      <th>Local_feature_1</th>\n",
       "      <th>Local_feature_2</th>\n",
       "      <th>Local_feature_3</th>\n",
       "      <th>Local_feature_4</th>\n",
       "      <th>Local_feature_5</th>\n",
       "      <th>Local_feature_6</th>\n",
       "      <th>Local_feature_7</th>\n",
       "      <th>...</th>\n",
       "      <th>Aggregate_feature_63</th>\n",
       "      <th>Aggregate_feature_64</th>\n",
       "      <th>Aggregate_feature_65</th>\n",
       "      <th>Aggregate_feature_66</th>\n",
       "      <th>Aggregate_feature_67</th>\n",
       "      <th>Aggregate_feature_68</th>\n",
       "      <th>Aggregate_feature_69</th>\n",
       "      <th>Aggregate_feature_70</th>\n",
       "      <th>Aggregate_feature_71</th>\n",
       "      <th>Aggregate_feature_72</th>\n",
       "    </tr>\n",
       "  </thead>\n",
       "  <tbody>\n",
       "    <tr>\n",
       "      <th>0</th>\n",
       "      <td>230425980</td>\n",
       "      <td>0</td>\n",
       "      <td>1</td>\n",
       "      <td>-0.171469</td>\n",
       "      <td>-0.184668</td>\n",
       "      <td>-1.201369</td>\n",
       "      <td>-0.121970</td>\n",
       "      <td>-0.043875</td>\n",
       "      <td>-0.113002</td>\n",
       "      <td>-0.061584</td>\n",
       "      <td>...</td>\n",
       "      <td>-0.562153</td>\n",
       "      <td>-0.600999</td>\n",
       "      <td>1.461330</td>\n",
       "      <td>1.461369</td>\n",
       "      <td>0.018279</td>\n",
       "      <td>-0.087490</td>\n",
       "      <td>-0.131155</td>\n",
       "      <td>-0.097524</td>\n",
       "      <td>-0.120613</td>\n",
       "      <td>-0.119792</td>\n",
       "    </tr>\n",
       "    <tr>\n",
       "      <th>1</th>\n",
       "      <td>5530458</td>\n",
       "      <td>0</td>\n",
       "      <td>1</td>\n",
       "      <td>-0.171484</td>\n",
       "      <td>-0.184668</td>\n",
       "      <td>-1.201369</td>\n",
       "      <td>-0.121970</td>\n",
       "      <td>-0.043875</td>\n",
       "      <td>-0.113002</td>\n",
       "      <td>-0.061584</td>\n",
       "      <td>...</td>\n",
       "      <td>0.947382</td>\n",
       "      <td>0.673103</td>\n",
       "      <td>-0.979074</td>\n",
       "      <td>-0.978556</td>\n",
       "      <td>0.018279</td>\n",
       "      <td>-0.087490</td>\n",
       "      <td>-0.131155</td>\n",
       "      <td>-0.097524</td>\n",
       "      <td>-0.120613</td>\n",
       "      <td>-0.119792</td>\n",
       "    </tr>\n",
       "    <tr>\n",
       "      <th>2</th>\n",
       "      <td>232022460</td>\n",
       "      <td>0</td>\n",
       "      <td>1</td>\n",
       "      <td>-0.172107</td>\n",
       "      <td>-0.184668</td>\n",
       "      <td>-1.201369</td>\n",
       "      <td>-0.121970</td>\n",
       "      <td>-0.043875</td>\n",
       "      <td>-0.113002</td>\n",
       "      <td>-0.061584</td>\n",
       "      <td>...</td>\n",
       "      <td>0.670883</td>\n",
       "      <td>0.439728</td>\n",
       "      <td>-0.979074</td>\n",
       "      <td>-0.978556</td>\n",
       "      <td>-0.098889</td>\n",
       "      <td>-0.106715</td>\n",
       "      <td>-0.131155</td>\n",
       "      <td>-0.183671</td>\n",
       "      <td>-0.120613</td>\n",
       "      <td>-0.119792</td>\n",
       "    </tr>\n",
       "    <tr>\n",
       "      <th>3</th>\n",
       "      <td>230460314</td>\n",
       "      <td>0</td>\n",
       "      <td>1</td>\n",
       "      <td>1.011523</td>\n",
       "      <td>-0.081127</td>\n",
       "      <td>-1.201369</td>\n",
       "      <td>1.153668</td>\n",
       "      <td>0.333276</td>\n",
       "      <td>1.312656</td>\n",
       "      <td>-0.061584</td>\n",
       "      <td>...</td>\n",
       "      <td>-0.511871</td>\n",
       "      <td>-0.400422</td>\n",
       "      <td>0.517257</td>\n",
       "      <td>0.579382</td>\n",
       "      <td>0.018279</td>\n",
       "      <td>0.277775</td>\n",
       "      <td>0.326394</td>\n",
       "      <td>1.293750</td>\n",
       "      <td>0.178136</td>\n",
       "      <td>0.179117</td>\n",
       "    </tr>\n",
       "    <tr>\n",
       "      <th>4</th>\n",
       "      <td>230459870</td>\n",
       "      <td>0</td>\n",
       "      <td>1</td>\n",
       "      <td>0.961040</td>\n",
       "      <td>-0.081127</td>\n",
       "      <td>-1.201369</td>\n",
       "      <td>1.303743</td>\n",
       "      <td>0.333276</td>\n",
       "      <td>1.480381</td>\n",
       "      <td>-0.061584</td>\n",
       "      <td>...</td>\n",
       "      <td>-0.504702</td>\n",
       "      <td>-0.422589</td>\n",
       "      <td>-0.226790</td>\n",
       "      <td>-0.117629</td>\n",
       "      <td>0.018279</td>\n",
       "      <td>0.277775</td>\n",
       "      <td>0.413931</td>\n",
       "      <td>1.149556</td>\n",
       "      <td>-0.696053</td>\n",
       "      <td>-0.695540</td>\n",
       "    </tr>\n",
       "  </tbody>\n",
       "</table>\n",
       "<p>5 rows × 168 columns</p>\n",
       "</div>"
      ],
      "text/plain": [
       "        txId  class  Time step  Local_feature_1  Local_feature_2  \\\n",
       "0  230425980      0          1        -0.171469        -0.184668   \n",
       "1    5530458      0          1        -0.171484        -0.184668   \n",
       "2  232022460      0          1        -0.172107        -0.184668   \n",
       "3  230460314      0          1         1.011523        -0.081127   \n",
       "4  230459870      0          1         0.961040        -0.081127   \n",
       "\n",
       "   Local_feature_3  Local_feature_4  Local_feature_5  Local_feature_6  \\\n",
       "0        -1.201369        -0.121970        -0.043875        -0.113002   \n",
       "1        -1.201369        -0.121970        -0.043875        -0.113002   \n",
       "2        -1.201369        -0.121970        -0.043875        -0.113002   \n",
       "3        -1.201369         1.153668         0.333276         1.312656   \n",
       "4        -1.201369         1.303743         0.333276         1.480381   \n",
       "\n",
       "   Local_feature_7  ...  Aggregate_feature_63  Aggregate_feature_64  \\\n",
       "0        -0.061584  ...             -0.562153             -0.600999   \n",
       "1        -0.061584  ...              0.947382              0.673103   \n",
       "2        -0.061584  ...              0.670883              0.439728   \n",
       "3        -0.061584  ...             -0.511871             -0.400422   \n",
       "4        -0.061584  ...             -0.504702             -0.422589   \n",
       "\n",
       "   Aggregate_feature_65  Aggregate_feature_66  Aggregate_feature_67  \\\n",
       "0              1.461330              1.461369              0.018279   \n",
       "1             -0.979074             -0.978556              0.018279   \n",
       "2             -0.979074             -0.978556             -0.098889   \n",
       "3              0.517257              0.579382              0.018279   \n",
       "4             -0.226790             -0.117629              0.018279   \n",
       "\n",
       "   Aggregate_feature_68  Aggregate_feature_69  Aggregate_feature_70  \\\n",
       "0             -0.087490             -0.131155             -0.097524   \n",
       "1             -0.087490             -0.131155             -0.097524   \n",
       "2             -0.106715             -0.131155             -0.183671   \n",
       "3              0.277775              0.326394              1.293750   \n",
       "4              0.277775              0.413931              1.149556   \n",
       "\n",
       "   Aggregate_feature_71  Aggregate_feature_72  \n",
       "0             -0.120613             -0.119792  \n",
       "1             -0.120613             -0.119792  \n",
       "2             -0.120613             -0.119792  \n",
       "3              0.178136              0.179117  \n",
       "4             -0.696053             -0.695540  \n",
       "\n",
       "[5 rows x 168 columns]"
      ]
     },
     "execution_count": 33,
     "metadata": {},
     "output_type": "execute_result"
    }
   ],
   "source": [
    "df_class_feature_unknown = pd.merge(df_classes_unknown, df_features_unknown )\n",
    "df_class_feature_unknown.head()"
   ]
  },
  {
   "cell_type": "code",
   "execution_count": 68,
   "metadata": {
    "papermill": {
     "duration": 0.054256,
     "end_time": "2020-11-17T14:48:07.349572",
     "exception": false,
     "start_time": "2020-11-17T14:48:07.295316",
     "status": "completed"
    },
    "scrolled": true,
    "tags": []
   },
   "outputs": [],
   "source": [
    "final_data = pd.concat([df_class_feature_unknown,df],axis=0,sort=False)"
   ]
  },
  {
   "cell_type": "code",
   "execution_count": 225,
   "metadata": {},
   "outputs": [],
   "source": [
    "final_data2=final_data[:20000]"
   ]
  },
  {
   "cell_type": "code",
   "execution_count": 226,
   "metadata": {},
   "outputs": [
    {
     "data": {
      "text/plain": [
       "(20000, 168)"
      ]
     },
     "execution_count": 226,
     "metadata": {},
     "output_type": "execute_result"
    }
   ],
   "source": [
    "final_data2.shape"
   ]
  },
  {
   "cell_type": "code",
   "execution_count": 69,
   "metadata": {},
   "outputs": [
    {
     "data": {
      "text/plain": [
       "(203769, 168)"
      ]
     },
     "execution_count": 69,
     "metadata": {},
     "output_type": "execute_result"
    }
   ],
   "source": [
    "final_data.shape"
   ]
  },
  {
   "cell_type": "code",
   "execution_count": 227,
   "metadata": {},
   "outputs": [],
   "source": [
    "final_data2.to_csv('AntiMoneyLaundering1.csv')"
   ]
  },
  {
   "cell_type": "code",
   "execution_count": 70,
   "metadata": {},
   "outputs": [
    {
     "data": {
      "text/html": [
       "<div>\n",
       "<style scoped>\n",
       "    .dataframe tbody tr th:only-of-type {\n",
       "        vertical-align: middle;\n",
       "    }\n",
       "\n",
       "    .dataframe tbody tr th {\n",
       "        vertical-align: top;\n",
       "    }\n",
       "\n",
       "    .dataframe thead th {\n",
       "        text-align: right;\n",
       "    }\n",
       "</style>\n",
       "<table border=\"1\" class=\"dataframe\">\n",
       "  <thead>\n",
       "    <tr style=\"text-align: right;\">\n",
       "      <th></th>\n",
       "      <th>txId</th>\n",
       "      <th>class</th>\n",
       "      <th>Time step</th>\n",
       "      <th>Local_feature_1</th>\n",
       "      <th>Local_feature_2</th>\n",
       "      <th>Local_feature_3</th>\n",
       "      <th>Local_feature_4</th>\n",
       "      <th>Local_feature_5</th>\n",
       "      <th>Local_feature_6</th>\n",
       "      <th>Local_feature_7</th>\n",
       "      <th>...</th>\n",
       "      <th>Aggregate_feature_63</th>\n",
       "      <th>Aggregate_feature_64</th>\n",
       "      <th>Aggregate_feature_65</th>\n",
       "      <th>Aggregate_feature_66</th>\n",
       "      <th>Aggregate_feature_67</th>\n",
       "      <th>Aggregate_feature_68</th>\n",
       "      <th>Aggregate_feature_69</th>\n",
       "      <th>Aggregate_feature_70</th>\n",
       "      <th>Aggregate_feature_71</th>\n",
       "      <th>Aggregate_feature_72</th>\n",
       "    </tr>\n",
       "  </thead>\n",
       "  <tbody>\n",
       "    <tr>\n",
       "      <th>0</th>\n",
       "      <td>230425980</td>\n",
       "      <td>0</td>\n",
       "      <td>1</td>\n",
       "      <td>-0.171469</td>\n",
       "      <td>-0.184668</td>\n",
       "      <td>-1.201369</td>\n",
       "      <td>-0.121970</td>\n",
       "      <td>-0.043875</td>\n",
       "      <td>-0.113002</td>\n",
       "      <td>-0.061584</td>\n",
       "      <td>...</td>\n",
       "      <td>-0.562153</td>\n",
       "      <td>-0.600999</td>\n",
       "      <td>1.461330</td>\n",
       "      <td>1.461369</td>\n",
       "      <td>0.018279</td>\n",
       "      <td>-0.087490</td>\n",
       "      <td>-0.131155</td>\n",
       "      <td>-0.097524</td>\n",
       "      <td>-0.120613</td>\n",
       "      <td>-0.119792</td>\n",
       "    </tr>\n",
       "    <tr>\n",
       "      <th>1</th>\n",
       "      <td>5530458</td>\n",
       "      <td>0</td>\n",
       "      <td>1</td>\n",
       "      <td>-0.171484</td>\n",
       "      <td>-0.184668</td>\n",
       "      <td>-1.201369</td>\n",
       "      <td>-0.121970</td>\n",
       "      <td>-0.043875</td>\n",
       "      <td>-0.113002</td>\n",
       "      <td>-0.061584</td>\n",
       "      <td>...</td>\n",
       "      <td>0.947382</td>\n",
       "      <td>0.673103</td>\n",
       "      <td>-0.979074</td>\n",
       "      <td>-0.978556</td>\n",
       "      <td>0.018279</td>\n",
       "      <td>-0.087490</td>\n",
       "      <td>-0.131155</td>\n",
       "      <td>-0.097524</td>\n",
       "      <td>-0.120613</td>\n",
       "      <td>-0.119792</td>\n",
       "    </tr>\n",
       "    <tr>\n",
       "      <th>2</th>\n",
       "      <td>232022460</td>\n",
       "      <td>0</td>\n",
       "      <td>1</td>\n",
       "      <td>-0.172107</td>\n",
       "      <td>-0.184668</td>\n",
       "      <td>-1.201369</td>\n",
       "      <td>-0.121970</td>\n",
       "      <td>-0.043875</td>\n",
       "      <td>-0.113002</td>\n",
       "      <td>-0.061584</td>\n",
       "      <td>...</td>\n",
       "      <td>0.670883</td>\n",
       "      <td>0.439728</td>\n",
       "      <td>-0.979074</td>\n",
       "      <td>-0.978556</td>\n",
       "      <td>-0.098889</td>\n",
       "      <td>-0.106715</td>\n",
       "      <td>-0.131155</td>\n",
       "      <td>-0.183671</td>\n",
       "      <td>-0.120613</td>\n",
       "      <td>-0.119792</td>\n",
       "    </tr>\n",
       "    <tr>\n",
       "      <th>3</th>\n",
       "      <td>230460314</td>\n",
       "      <td>0</td>\n",
       "      <td>1</td>\n",
       "      <td>1.011523</td>\n",
       "      <td>-0.081127</td>\n",
       "      <td>-1.201369</td>\n",
       "      <td>1.153668</td>\n",
       "      <td>0.333276</td>\n",
       "      <td>1.312656</td>\n",
       "      <td>-0.061584</td>\n",
       "      <td>...</td>\n",
       "      <td>-0.511871</td>\n",
       "      <td>-0.400422</td>\n",
       "      <td>0.517257</td>\n",
       "      <td>0.579382</td>\n",
       "      <td>0.018279</td>\n",
       "      <td>0.277775</td>\n",
       "      <td>0.326394</td>\n",
       "      <td>1.293750</td>\n",
       "      <td>0.178136</td>\n",
       "      <td>0.179117</td>\n",
       "    </tr>\n",
       "    <tr>\n",
       "      <th>4</th>\n",
       "      <td>230459870</td>\n",
       "      <td>0</td>\n",
       "      <td>1</td>\n",
       "      <td>0.961040</td>\n",
       "      <td>-0.081127</td>\n",
       "      <td>-1.201369</td>\n",
       "      <td>1.303743</td>\n",
       "      <td>0.333276</td>\n",
       "      <td>1.480381</td>\n",
       "      <td>-0.061584</td>\n",
       "      <td>...</td>\n",
       "      <td>-0.504702</td>\n",
       "      <td>-0.422589</td>\n",
       "      <td>-0.226790</td>\n",
       "      <td>-0.117629</td>\n",
       "      <td>0.018279</td>\n",
       "      <td>0.277775</td>\n",
       "      <td>0.413931</td>\n",
       "      <td>1.149556</td>\n",
       "      <td>-0.696053</td>\n",
       "      <td>-0.695540</td>\n",
       "    </tr>\n",
       "  </tbody>\n",
       "</table>\n",
       "<p>5 rows × 168 columns</p>\n",
       "</div>"
      ],
      "text/plain": [
       "        txId  class  Time step  Local_feature_1  Local_feature_2  \\\n",
       "0  230425980      0          1        -0.171469        -0.184668   \n",
       "1    5530458      0          1        -0.171484        -0.184668   \n",
       "2  232022460      0          1        -0.172107        -0.184668   \n",
       "3  230460314      0          1         1.011523        -0.081127   \n",
       "4  230459870      0          1         0.961040        -0.081127   \n",
       "\n",
       "   Local_feature_3  Local_feature_4  Local_feature_5  Local_feature_6  \\\n",
       "0        -1.201369        -0.121970        -0.043875        -0.113002   \n",
       "1        -1.201369        -0.121970        -0.043875        -0.113002   \n",
       "2        -1.201369        -0.121970        -0.043875        -0.113002   \n",
       "3        -1.201369         1.153668         0.333276         1.312656   \n",
       "4        -1.201369         1.303743         0.333276         1.480381   \n",
       "\n",
       "   Local_feature_7  ...  Aggregate_feature_63  Aggregate_feature_64  \\\n",
       "0        -0.061584  ...             -0.562153             -0.600999   \n",
       "1        -0.061584  ...              0.947382              0.673103   \n",
       "2        -0.061584  ...              0.670883              0.439728   \n",
       "3        -0.061584  ...             -0.511871             -0.400422   \n",
       "4        -0.061584  ...             -0.504702             -0.422589   \n",
       "\n",
       "   Aggregate_feature_65  Aggregate_feature_66  Aggregate_feature_67  \\\n",
       "0              1.461330              1.461369              0.018279   \n",
       "1             -0.979074             -0.978556              0.018279   \n",
       "2             -0.979074             -0.978556             -0.098889   \n",
       "3              0.517257              0.579382              0.018279   \n",
       "4             -0.226790             -0.117629              0.018279   \n",
       "\n",
       "   Aggregate_feature_68  Aggregate_feature_69  Aggregate_feature_70  \\\n",
       "0             -0.087490             -0.131155             -0.097524   \n",
       "1             -0.087490             -0.131155             -0.097524   \n",
       "2             -0.106715             -0.131155             -0.183671   \n",
       "3              0.277775              0.326394              1.293750   \n",
       "4              0.277775              0.413931              1.149556   \n",
       "\n",
       "   Aggregate_feature_71  Aggregate_feature_72  \n",
       "0             -0.120613             -0.119792  \n",
       "1             -0.120613             -0.119792  \n",
       "2             -0.120613             -0.119792  \n",
       "3              0.178136              0.179117  \n",
       "4             -0.696053             -0.695540  \n",
       "\n",
       "[5 rows x 168 columns]"
      ]
     },
     "execution_count": 70,
     "metadata": {},
     "output_type": "execute_result"
    }
   ],
   "source": [
    "final_data.head()"
   ]
  },
  {
   "cell_type": "code",
   "execution_count": 71,
   "metadata": {},
   "outputs": [],
   "source": [
    "x = final_data.drop(['Time step','txId','class'],axis=1)"
   ]
  },
  {
   "cell_type": "code",
   "execution_count": 72,
   "metadata": {},
   "outputs": [],
   "source": [
    "y = final_data[['class']]"
   ]
  },
  {
   "cell_type": "code",
   "execution_count": 73,
   "metadata": {},
   "outputs": [],
   "source": [
    "from sklearn.model_selection import train_test_split"
   ]
  },
  {
   "cell_type": "code",
   "execution_count": 74,
   "metadata": {},
   "outputs": [],
   "source": [
    "X_train, X_test, y_train, y_test = train_test_split(x, y, test_size=0.33, random_state=42)"
   ]
  },
  {
   "cell_type": "code",
   "execution_count": 75,
   "metadata": {},
   "outputs": [],
   "source": [
    "X_train_num = X_train.to_numpy()\n",
    "X_test_num = X_test.to_numpy()\n",
    "\n",
    "y_train_num = y_train.to_numpy()\n",
    "y_test_num = y_test.to_numpy()"
   ]
  },
  {
   "cell_type": "code",
   "execution_count": 218,
   "metadata": {},
   "outputs": [],
   "source": [
    "# KFOLD"
   ]
  },
  {
   "cell_type": "code",
   "execution_count": 221,
   "metadata": {},
   "outputs": [],
   "source": [
    "from sklearn.model_selection import StratifiedKFold,cross_val_score"
   ]
  },
  {
   "cell_type": "code",
   "execution_count": 220,
   "metadata": {},
   "outputs": [],
   "source": [
    "cv = StratifiedKFold(n_splits=10)"
   ]
  },
  {
   "cell_type": "code",
   "execution_count": 222,
   "metadata": {},
   "outputs": [],
   "source": [
    "m_cv = cross_val_score(RandomForestClassifier(),x,y,cv = cv,n_jobs=-1)"
   ]
  },
  {
   "cell_type": "code",
   "execution_count": null,
   "metadata": {},
   "outputs": [],
   "source": []
  },
  {
   "cell_type": "code",
   "execution_count": 76,
   "metadata": {},
   "outputs": [],
   "source": [
    "import tensorflow as tf\n",
    "from tensorflow.keras.optimizers import Adamax, Adam, RMSprop, SGD"
   ]
  },
  {
   "cell_type": "code",
   "execution_count": 107,
   "metadata": {},
   "outputs": [],
   "source": [
    "# Dense -> adding Hidden input layers\n",
    "ann = tf.keras.models.Sequential()\n",
    "# ann_variable = Sequential()\n",
    "ann.add(tf.keras.layers.Dense(units=8,activation='relu'))\n",
    "\n",
    "ann.add(tf.keras.layers.Dense(units=8,activation='relu'))\n",
    "\n",
    "ann.add(tf.keras.layers.Dense(units=1,activation='sigmoid'))\n",
    "\n",
    "ann.compile(optimizer='rmsprop',loss='binary_crossentropy',metrics=['accuracy'])"
   ]
  },
  {
   "cell_type": "code",
   "execution_count": 114,
   "metadata": {
    "scrolled": true
   },
   "outputs": [
    {
     "name": "stdout",
     "output_type": "stream",
     "text": [
      "Epoch 1/20\n",
      "4267/4267 [==============================] - 3s 812us/step - loss: 0.0885 - accuracy: 0.9777\n",
      "Epoch 2/20\n",
      "4267/4267 [==============================] - 3s 801us/step - loss: 0.0857 - accuracy: 0.9776\n",
      "Epoch 3/20\n",
      "4267/4267 [==============================] - 4s 840us/step - loss: 0.0870 - accuracy: 0.9778\n",
      "Epoch 4/20\n",
      "4267/4267 [==============================] - 4s 883us/step - loss: 0.0870 - accuracy: 0.9776\n",
      "Epoch 5/20\n",
      "4267/4267 [==============================] - 3s 734us/step - loss: 0.0874 - accuracy: 0.9777\n",
      "Epoch 6/20\n",
      "4267/4267 [==============================] - 3s 726us/step - loss: 0.0867 - accuracy: 0.9776\n",
      "Epoch 7/20\n",
      "4267/4267 [==============================] - 4s 825us/step - loss: 0.0870 - accuracy: 0.9776\n",
      "Epoch 8/20\n",
      "4267/4267 [==============================] - 3s 815us/step - loss: 0.0884 - accuracy: 0.9776\n",
      "Epoch 9/20\n",
      "4267/4267 [==============================] - 3s 773us/step - loss: 0.0885 - accuracy: 0.9774\n",
      "Epoch 10/20\n",
      "4267/4267 [==============================] - 3s 728us/step - loss: 0.0906 - accuracy: 0.9774\n",
      "Epoch 11/20\n",
      "4267/4267 [==============================] - 3s 727us/step - loss: 0.0903 - accuracy: 0.9774\n",
      "Epoch 12/20\n",
      "4267/4267 [==============================] - 4s 863us/step - loss: 0.0899 - accuracy: 0.9771\n",
      "Epoch 13/20\n",
      "4267/4267 [==============================] - 3s 739us/step - loss: 0.0916 - accuracy: 0.9771\n",
      "Epoch 14/20\n",
      "4267/4267 [==============================] - 3s 747us/step - loss: 0.0900 - accuracy: 0.9772\n",
      "Epoch 15/20\n",
      "4267/4267 [==============================] - 3s 813us/step - loss: 0.0895 - accuracy: 0.9770\n",
      "Epoch 16/20\n",
      "4267/4267 [==============================] - 3s 772us/step - loss: 0.0908 - accuracy: 0.9770\n",
      "Epoch 17/20\n",
      "4267/4267 [==============================] - 3s 786us/step - loss: 0.0924 - accuracy: 0.9768\n",
      "Epoch 18/20\n",
      "4267/4267 [==============================] - 3s 728us/step - loss: 0.0929 - accuracy: 0.9770\n",
      "Epoch 19/20\n",
      "4267/4267 [==============================] - 3s 728us/step - loss: 0.0908 - accuracy: 0.9765\n",
      "Epoch 20/20\n",
      "4267/4267 [==============================] - 3s 727us/step - loss: 0.0943 - accuracy: 0.9765\n"
     ]
    },
    {
     "data": {
      "text/plain": [
       "<keras.callbacks.History at 0x7fcffceb07f0>"
      ]
     },
     "execution_count": 114,
     "metadata": {},
     "output_type": "execute_result"
    }
   ],
   "source": [
    "ann.fit(X_train,y_train,batch_size=32,epochs=20)"
   ]
  },
  {
   "cell_type": "code",
   "execution_count": 187,
   "metadata": {},
   "outputs": [],
   "source": [
    "y_predict = ann.predict(X_test_num)"
   ]
  },
  {
   "cell_type": "code",
   "execution_count": 189,
   "metadata": {},
   "outputs": [],
   "source": [
    "from sklearn.metrics import accuracy_score,f1_score,confusion_matrix,classification_report,roc_auc_score,plot_roc_curve,roc_curve,ConfusionMatrixDisplay,precision_score"
   ]
  },
  {
   "cell_type": "code",
   "execution_count": 190,
   "metadata": {
    "scrolled": false
   },
   "outputs": [
    {
     "name": "stdout",
     "output_type": "stream",
     "text": [
      "Precision: [0.98445352 0.83305275]\n",
      "Accuracy: 0.976429123787996\n",
      "F1 score: 0.976429123787996\n",
      "ROC_AUC score 0.8702674703775641\n",
      "Classification Report:               precision    recall  f1-score   support\n",
      "\n",
      "           0       0.98      0.99      0.99     63285\n",
      "           1       0.83      0.75      0.79      3959\n",
      "\n",
      "    accuracy                           0.98     67244\n",
      "   macro avg       0.91      0.87      0.89     67244\n",
      "weighted avg       0.98      0.98      0.98     67244\n",
      "\n",
      "Confusion Matrix:\n"
     ]
    },
    {
     "data": {
      "image/png": "[encoded data removed]",
      "text/plain": [
       "<Figure size 432x288 with 2 Axes>"
      ]
     },
     "metadata": {
      "needs_background": "light"
     },
     "output_type": "display_data"
    }
   ],
   "source": [
    "#cm = confusion_matrix(y_test_num, y_predict)\n",
    "#print(cm)\n",
    "    #tn,fp,fn,tp = cm.ravel()\n",
    "    # print(tn)\n",
    "  # print(fp)\n",
    "  # print(fn)\n",
    "  # print(tp)\n",
    "  #precision = tp / (tp + fp)\n",
    "precision = precision_score(y_test_num,y_predict,average=None)\n",
    "print(\"Precision:\",precision)\n",
    "  #recall = tp / (tp + fn)\n",
    "  #print(\"the recall is \",recall)\n",
    "  #specificity = tn / (tn+fp)\n",
    "  #print(\"the specificity is \",specificity)\n",
    "print(\"Accuracy:\",accuracy_score(y_test_num, y_predict))\n",
    "print(\"F1 score:\",f1_score(y_test_num,y_predict,average='micro'))\n",
    "#print(\"ROC AUC score of \",ann,\"is\",roc_auc_score(y_test_num,y_pred1,multi_class='ovr',average= 'weighted'))\n",
    "print(\"ROC_AUC score\",roc_auc_score(y_test_num,y_predict))\n",
    "print(\"Classification Report:\",classification_report(y_test_num, y_predict))\n",
    "print(\"Confusion Matrix:\")\n",
    "ConfusionMatrixDisplay.from_predictions(y_test_num,y_predict);"
   ]
  },
  {
   "cell_type": "code",
   "execution_count": null,
   "metadata": {},
   "outputs": [],
   "source": [
    "# CNN"
   ]
  },
  {
   "cell_type": "code",
   "execution_count": 124,
   "metadata": {},
   "outputs": [],
   "source": [
    "X_train = X_train_num.reshape(X_train_num.shape[0], X_train_num.shape[1], 1)\n",
    "X_test = X_test_num.reshape(X_test_num.shape[0], X_test_num.shape[1], 1)"
   ]
  },
  {
   "cell_type": "code",
   "execution_count": 163,
   "metadata": {},
   "outputs": [
    {
     "name": "stdout",
     "output_type": "stream",
     "text": [
      "2.7.0\n"
     ]
    }
   ],
   "source": [
    "import tensorflow as tf\n",
    "from tensorflow import keras\n",
    "from tensorflow.keras import Sequential\n",
    "from tensorflow.keras.layers import Flatten, Dense, Dropout, BatchNormalization\n",
    "from tensorflow.keras.layers import Conv1D, MaxPool1D,LSTM,SimpleRNN\n",
    "from tensorflow.keras.optimizers import Adam\n",
    "print(tf.__version__)"
   ]
  },
  {
   "cell_type": "code",
   "execution_count": 149,
   "metadata": {},
   "outputs": [],
   "source": [
    "model1 = Sequential()\n",
    "\n",
    "model1.add(Conv1D(32, 2, activation='relu', input_shape = X_train[0].shape))\n",
    "model1.add(BatchNormalization())\n",
    "model1.add(Dropout(0.2))\n",
    "\n",
    "model1.add(Flatten())\n",
    "model1.add(Dense(64, activation='relu'))\n",
    "model1.add(Dropout(0.5))\n",
    "\n",
    "model1.add(Dense(1, activation='sigmoid'))"
   ]
  },
  {
   "cell_type": "code",
   "execution_count": 150,
   "metadata": {},
   "outputs": [
    {
     "name": "stdout",
     "output_type": "stream",
     "text": [
      "Model: \"sequential_6\"\n",
      "_________________________________________________________________\n",
      " Layer (type)                Output Shape              Param #   \n",
      "=================================================================\n",
      " conv1d_3 (Conv1D)           (None, 164, 32)           96        \n",
      "                                                                 \n",
      " batch_normalization_4 (Batc  (None, 164, 32)          128       \n",
      " hNormalization)                                                 \n",
      "                                                                 \n",
      " dropout_7 (Dropout)         (None, 164, 32)           0         \n",
      "                                                                 \n",
      " flatten_2 (Flatten)         (None, 5248)              0         \n",
      "                                                                 \n",
      " dense_15 (Dense)            (None, 64)                335936    \n",
      "                                                                 \n",
      " dropout_8 (Dropout)         (None, 64)                0         \n",
      "                                                                 \n",
      " dense_16 (Dense)            (None, 1)                 65        \n",
      "                                                                 \n",
      "=================================================================\n",
      "Total params: 336,225\n",
      "Trainable params: 336,161\n",
      "Non-trainable params: 64\n",
      "_________________________________________________________________\n"
     ]
    }
   ],
   "source": [
    "model1.summary()"
   ]
  },
  {
   "cell_type": "code",
   "execution_count": 151,
   "metadata": {},
   "outputs": [],
   "source": [
    "model1.compile(optimizer=Adam(learning_rate=0.001), loss = 'binary_crossentropy', metrics=['accuracy'])"
   ]
  },
  {
   "cell_type": "code",
   "execution_count": 152,
   "metadata": {
    "scrolled": true
   },
   "outputs": [
    {
     "name": "stdout",
     "output_type": "stream",
     "text": [
      "Epoch 1/10\n",
      "4267/4267 [==============================] - 29s 7ms/step - loss: 0.1125 - accuracy: 0.9681 - val_loss: 0.0811 - val_accuracy: 0.9731\n",
      "Epoch 2/10\n",
      "4267/4267 [==============================] - 28s 7ms/step - loss: 0.0878 - accuracy: 0.9729 - val_loss: 0.0712 - val_accuracy: 0.9762\n",
      "Epoch 3/10\n",
      "4267/4267 [==============================] - 27s 6ms/step - loss: 0.0802 - accuracy: 0.9743 - val_loss: 0.0673 - val_accuracy: 0.9773\n",
      "Epoch 4/10\n",
      "4267/4267 [==============================] - 27s 6ms/step - loss: 0.0765 - accuracy: 0.9753 - val_loss: 0.0645 - val_accuracy: 0.9784\n",
      "Epoch 5/10\n",
      "4267/4267 [==============================] - 28s 6ms/step - loss: 0.0752 - accuracy: 0.9760 - val_loss: 0.0643 - val_accuracy: 0.9793\n",
      "Epoch 6/10\n",
      "4267/4267 [==============================] - 27s 6ms/step - loss: 0.0727 - accuracy: 0.9769 - val_loss: 0.0587 - val_accuracy: 0.9810\n",
      "Epoch 7/10\n",
      "4267/4267 [==============================] - 27s 6ms/step - loss: 0.0705 - accuracy: 0.9770 - val_loss: 0.0584 - val_accuracy: 0.9817\n",
      "Epoch 8/10\n",
      "4267/4267 [==============================] - 28s 7ms/step - loss: 0.0689 - accuracy: 0.9775 - val_loss: 0.0597 - val_accuracy: 0.9818\n",
      "Epoch 9/10\n",
      "4267/4267 [==============================] - 28s 7ms/step - loss: 0.0671 - accuracy: 0.9777 - val_loss: 0.0595 - val_accuracy: 0.9805\n",
      "Epoch 10/10\n",
      "4267/4267 [==============================] - 27s 6ms/step - loss: 0.0676 - accuracy: 0.9781 - val_loss: 0.0579 - val_accuracy: 0.9808\n"
     ]
    },
    {
     "data": {
      "text/plain": [
       "<keras.callbacks.History at 0x7fcff92654a8>"
      ]
     },
     "execution_count": 152,
     "metadata": {},
     "output_type": "execute_result"
    }
   ],
   "source": [
    "model1.fit(X_train, y_train, epochs=10, validation_data=(X_test, y_test_num), verbose=1)"
   ]
  },
  {
   "cell_type": "code",
   "execution_count": 185,
   "metadata": {},
   "outputs": [],
   "source": [
    "y_predict = model1.predict(X_test)"
   ]
  },
  {
   "cell_type": "code",
   "execution_count": 186,
   "metadata": {},
   "outputs": [],
   "source": [
    "y_predict = (y_predict > 0.5)"
   ]
  },
  {
   "cell_type": "code",
   "execution_count": 155,
   "metadata": {
    "scrolled": false
   },
   "outputs": [
    {
     "name": "stdout",
     "output_type": "stream",
     "text": [
      "Precision: [0.98601388 0.86715659]\n",
      "Accuracy: 0.9797602760097556\n",
      "F1 score: 0.9797602760097556\n",
      "ROC_AUC score 0.8837582235373269\n",
      "Classification Report:               precision    recall  f1-score   support\n",
      "\n",
      "           0       0.99      0.99      0.99     63285\n",
      "           1       0.87      0.77      0.82      3959\n",
      "\n",
      "    accuracy                           0.98     67244\n",
      "   macro avg       0.93      0.88      0.90     67244\n",
      "weighted avg       0.98      0.98      0.98     67244\n",
      "\n",
      "Confusion Matrix:\n"
     ]
    },
    {
     "data": {
      "image/png": "[encoded data removed]",
      "text/plain": [
       "<Figure size 432x288 with 2 Axes>"
      ]
     },
     "metadata": {
      "needs_background": "light"
     },
     "output_type": "display_data"
    }
   ],
   "source": [
    "#cm = confusion_matrix(y_test_num, y_predict)\n",
    "#print(cm)\n",
    "    #tn,fp,fn,tp = cm.ravel()\n",
    "    # print(tn)\n",
    "  # print(fp)\n",
    "  # print(fn)\n",
    "  # print(tp)\n",
    "  #precision = tp / (tp + fp)\n",
    "precision = precision_score(y_test_num,y_predict,average=None)\n",
    "print(\"Precision:\",precision)\n",
    "  #recall = tp / (tp + fn)\n",
    "  #print(\"the recall is \",recall)\n",
    "  #specificity = tn / (tn+fp)\n",
    "  #print(\"the specificity is \",specificity)\n",
    "print(\"Accuracy:\",accuracy_score(y_test_num, y_predict))\n",
    "print(\"F1 score:\",f1_score(y_test_num,y_predict,average='micro'))\n",
    "#print(\"ROC AUC score of \",ann,\"is\",roc_auc_score(y_test_num,y_pred1,multi_class='ovr',average= 'weighted'))\n",
    "print(\"ROC_AUC score\",roc_auc_score(y_test_num,y_predict))\n",
    "print(\"Classification Report:\",classification_report(y_test_num, y_predict))\n",
    "print(\"Confusion Matrix:\")\n",
    "ConfusionMatrixDisplay.from_predictions(y_test_num,y_predict);"
   ]
  },
  {
   "cell_type": "code",
   "execution_count": 156,
   "metadata": {},
   "outputs": [],
   "source": [
    "# LSTM"
   ]
  },
  {
   "cell_type": "code",
   "execution_count": 200,
   "metadata": {},
   "outputs": [],
   "source": [
    "model2 = Sequential()\n",
    "model2.add(LSTM(32, activation='tanh', input_shape = X_train[0].shape))\n",
    "model2.add(Dropout(0.3))\n",
    "model2.add(Dense(32, activation='relu'))\n",
    "model2.add(Dropout(0.2))\n",
    "model2.add(Dense(1, activation='sigmoid'))"
   ]
  },
  {
   "cell_type": "code",
   "execution_count": 201,
   "metadata": {},
   "outputs": [],
   "source": [
    "model2.compile(optimizer=Adam(learning_rate=0.0001), loss = 'binary_crossentropy', metrics=['accuracy'])"
   ]
  },
  {
   "cell_type": "code",
   "execution_count": 202,
   "metadata": {
    "scrolled": false
   },
   "outputs": [
    {
     "name": "stdout",
     "output_type": "stream",
     "text": [
      "Epoch 1/5\n",
      "4267/4267 [==============================] - 160s 37ms/step - loss: 0.2510 - accuracy: 0.9388 - val_loss: 0.2219 - val_accuracy: 0.9411\n",
      "Epoch 2/5\n",
      "4267/4267 [==============================] - 156s 37ms/step - loss: 0.2231 - accuracy: 0.9407 - val_loss: 0.1843 - val_accuracy: 0.9411\n",
      "Epoch 3/5\n",
      "4267/4267 [==============================] - 158s 37ms/step - loss: 0.1728 - accuracy: 0.9407 - val_loss: 0.1819 - val_accuracy: 0.9411\n",
      "Epoch 4/5\n",
      "4267/4267 [==============================] - 157s 37ms/step - loss: 0.1709 - accuracy: 0.9407 - val_loss: 0.2142 - val_accuracy: 0.9411\n",
      "Epoch 5/5\n",
      "4267/4267 [==============================] - 158s 37ms/step - loss: 0.1892 - accuracy: 0.9427 - val_loss: 0.1315 - val_accuracy: 0.9539\n"
     ]
    },
    {
     "data": {
      "text/plain": [
       "<keras.callbacks.History at 0x7fcfdd8e27b8>"
      ]
     },
     "execution_count": 202,
     "metadata": {},
     "output_type": "execute_result"
    }
   ],
   "source": [
    "model2.fit(X_train, y_train, epochs=5, validation_data=(X_test, y_test_num), verbose=1)"
   ]
  },
  {
   "cell_type": "code",
   "execution_count": 205,
   "metadata": {},
   "outputs": [],
   "source": [
    "y_predict = model2.predict(X_test)"
   ]
  },
  {
   "cell_type": "code",
   "execution_count": 215,
   "metadata": {},
   "outputs": [
    {
     "data": {
      "text/plain": [
       "(1988,)"
      ]
     },
     "execution_count": 215,
     "metadata": {},
     "output_type": "execute_result"
    }
   ],
   "source": [
    "y_predict[y_predict >0.5].shape"
   ]
  },
  {
   "cell_type": "code",
   "execution_count": null,
   "metadata": {},
   "outputs": [],
   "source": [
    "y_predict = (y_predict > 0.5)"
   ]
  },
  {
   "cell_type": "code",
   "execution_count": 204,
   "metadata": {},
   "outputs": [
    {
     "name": "stdout",
     "output_type": "stream",
     "text": [
      "Precision: [0.96113767 0.71579477]\n",
      "Accuracy: 0.9538843614300161\n",
      "F1 score: 0.9538843614300161\n",
      "ROC_AUC score 0.6752531672763468\n",
      "Classification Report:               precision    recall  f1-score   support\n",
      "\n",
      "           0       0.96      0.99      0.98     63285\n",
      "           1       0.72      0.36      0.48      3959\n",
      "\n",
      "    accuracy                           0.95     67244\n",
      "   macro avg       0.84      0.68      0.73     67244\n",
      "weighted avg       0.95      0.95      0.95     67244\n",
      "\n",
      "Confusion Matrix:\n"
     ]
    },
    {
     "data": {
      "image/png": "[encoded data removed]",
      "text/plain": [
       "<Figure size 432x288 with 2 Axes>"
      ]
     },
     "metadata": {
      "needs_background": "light"
     },
     "output_type": "display_data"
    }
   ],
   "source": [
    "#cm = confusion_matrix(y_test_num, y_predict)\n",
    "#print(cm)\n",
    "    #tn,fp,fn,tp = cm.ravel()\n",
    "    # print(tn)\n",
    "  # print(fp)\n",
    "  # print(fn)\n",
    "  # print(tp)\n",
    "  #precision = tp / (tp + fp)\n",
    "precision = precision_score(y_test_num,y_predict,average=None)\n",
    "print(\"Precision:\",precision)\n",
    "  #recall = tp / (tp + fn)\n",
    "  #print(\"the recall is \",recall)\n",
    "  #specificity = tn / (tn+fp)\n",
    "  #print(\"the specificity is \",specificity)\n",
    "print(\"Accuracy:\",accuracy_score(y_test_num, y_predict))\n",
    "print(\"F1 score:\",f1_score(y_test_num,y_predict,average='micro'))\n",
    "#print(\"ROC AUC score of \",ann,\"is\",roc_auc_score(y_test_num,y_pred1,multi_class='ovr',average= 'weighted'))\n",
    "print(\"ROC_AUC score\",roc_auc_score(y_test_num,y_predict))\n",
    "print(\"Classification Report:\",classification_report(y_test_num, y_predict))\n",
    "print(\"Confusion Matrix:\")\n",
    "ConfusionMatrixDisplay.from_predictions(y_test_num,y_predict);"
   ]
  },
  {
   "cell_type": "code",
   "execution_count": 169,
   "metadata": {},
   "outputs": [],
   "source": [
    "model3 = Sequential()\n",
    "model3.add(SimpleRNN(32,activation='relu',input_shape=X_train[0].shape))\n",
    "model3.add(Dropout(0.4))\n",
    "model3.add(Dense(32,activation='relu'))\n",
    "model3.add(Dropout(0.3))\n",
    "model3.add(Dense(32,activation='relu'))\n",
    "model3.add(Dropout(0.3))\n",
    "model3.add(Dense(1,activation='sigmoid'))"
   ]
  },
  {
   "cell_type": "code",
   "execution_count": 170,
   "metadata": {},
   "outputs": [],
   "source": [
    "model3.compile(optimizer=Adam(learning_rate=0.0001), loss = 'binary_crossentropy', metrics=['accuracy'])"
   ]
  },
  {
   "cell_type": "code",
   "execution_count": 171,
   "metadata": {},
   "outputs": [
    {
     "name": "stdout",
     "output_type": "stream",
     "text": [
      "Epoch 1/5\n",
      "4267/4267 [==============================] - 85s 20ms/step - loss: 0.2155 - accuracy: 0.9351 - val_loss: 0.1439 - val_accuracy: 0.9411\n",
      "Epoch 2/5\n",
      "4267/4267 [==============================] - 84s 20ms/step - loss: 0.1458 - accuracy: 0.9407 - val_loss: 0.1374 - val_accuracy: 0.9411\n",
      "Epoch 3/5\n",
      "4267/4267 [==============================] - 86s 20ms/step - loss: 0.1405 - accuracy: 0.9440 - val_loss: 0.1386 - val_accuracy: 0.9555\n",
      "Epoch 4/5\n",
      "4267/4267 [==============================] - 85s 20ms/step - loss: 0.1368 - accuracy: 0.9573 - val_loss: 0.1536 - val_accuracy: 0.9613\n",
      "Epoch 5/5\n",
      "4267/4267 [==============================] - 85s 20ms/step - loss: 0.1359 - accuracy: 0.9616 - val_loss: 0.1370 - val_accuracy: 0.9621\n"
     ]
    },
    {
     "data": {
      "text/plain": [
       "<keras.callbacks.History at 0x7fcfdeb06a90>"
      ]
     },
     "execution_count": 171,
     "metadata": {},
     "output_type": "execute_result"
    }
   ],
   "source": [
    "model3.fit(X_train, y_train, epochs=5, validation_data=(X_test, y_test_num), verbose=1)"
   ]
  },
  {
   "cell_type": "code",
   "execution_count": 216,
   "metadata": {},
   "outputs": [],
   "source": [
    "y_predict = model3.predict(X_test)\n",
    "y_predict = (y_predict > 0.5)"
   ]
  },
  {
   "cell_type": "code",
   "execution_count": 217,
   "metadata": {},
   "outputs": [
    {
     "name": "stdout",
     "output_type": "stream",
     "text": [
      "Precision: [0.98113118 0.67119302]\n",
      "Accuracy: 0.9621230146927607\n",
      "F1 score: 0.9621230146927607\n",
      "ROC_AUC score 0.8388697888842982\n",
      "Classification Report:               precision    recall  f1-score   support\n",
      "\n",
      "           0       0.98      0.98      0.98     63285\n",
      "           1       0.67      0.70      0.68      3959\n",
      "\n",
      "    accuracy                           0.96     67244\n",
      "   macro avg       0.83      0.84      0.83     67244\n",
      "weighted avg       0.96      0.96      0.96     67244\n",
      "\n",
      "Confusion Matrix:\n"
     ]
    },
    {
     "data": {
      "image/png": "[encoded data removed]",
      "text/plain": [
       "<Figure size 432x288 with 2 Axes>"
      ]
     },
     "metadata": {
      "needs_background": "light"
     },
     "output_type": "display_data"
    }
   ],
   "source": [
    "#cm = confusion_matrix(y_test_num, y_predict)\n",
    "#print(cm)\n",
    "    #tn,fp,fn,tp = cm.ravel()\n",
    "    # print(tn)\n",
    "  # print(fp)\n",
    "  # print(fn)\n",
    "  # print(tp)\n",
    "  #precision = tp / (tp + fp)\n",
    "precision = precision_score(y_test_num,y_predict,average=None)\n",
    "print(\"Precision:\",precision)\n",
    "  #recall = tp / (tp + fn)\n",
    "  #print(\"the recall is \",recall)\n",
    "  #specificity = tn / (tn+fp)\n",
    "  #print(\"the specificity is \",specificity)\n",
    "print(\"Accuracy:\",accuracy_score(y_test_num, y_predict))\n",
    "print(\"F1 score:\",f1_score(y_test_num,y_predict,average='micro'))\n",
    "#print(\"ROC AUC score of \",ann,\"is\",roc_auc_score(y_test_num,y_pred1,multi_class='ovr',average= 'weighted'))\n",
    "print(\"ROC_AUC score\",roc_auc_score(y_test_num,y_predict))\n",
    "print(\"Classification Report:\",classification_report(y_test_num, y_predict))\n",
    "print(\"Confusion Matrix:\")\n",
    "ConfusionMatrixDisplay.from_predictions(y_test_num,y_predict);"
   ]
  },
  {
   "cell_type": "code",
   "execution_count": null,
   "metadata": {},
   "outputs": [],
   "source": []
  }
 ],
 "metadata": {
  "kernelspec": {
   "display_name": "Python 3",
   "language": "python",
   "name": "python3"
  },
  "language_info": {
   "codemirror_mode": {
    "name": "ipython",
    "version": 3
   },
   "file_extension": ".py",
   "mimetype": "text/x-python",
   "name": "python",
   "nbconvert_exporter": "python",
   "pygments_lexer": "ipython3",
   "version": "3.7.3"
  },
  "papermill": {
   "duration": 65.816565,
   "end_time": "2020-11-17T14:48:07.509108",
   "environment_variables": {},
   "exception": null,
   "input_path": "__notebook__.ipynb",
   "output_path": "__notebook__.ipynb",
   "parameters": {},
   "start_time": "2020-11-17T14:47:01.692543",
   "version": "2.1.0"
  }
 },
 "nbformat": 4,
 "nbformat_minor": 4
}
